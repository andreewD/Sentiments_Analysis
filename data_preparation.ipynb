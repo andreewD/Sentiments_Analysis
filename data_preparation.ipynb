{
 "cells": [
  {
   "cell_type": "code",
   "execution_count": 1,
   "metadata": {},
   "outputs": [],
   "source": [
    "import pandas as pd"
   ]
  },
  {
   "cell_type": "code",
   "execution_count": 2,
   "metadata": {},
   "outputs": [],
   "source": [
    "data = pd.read_json('file.json',lines=True)"
   ]
  },
  {
   "cell_type": "code",
   "execution_count": 3,
   "metadata": {},
   "outputs": [],
   "source": [
    "data['date']=pd.to_datetime(data.date)"
   ]
  },
  {
   "cell_type": "code",
   "execution_count": 4,
   "metadata": {},
   "outputs": [
    {
     "name": "stdout",
     "output_type": "stream",
     "text": [
      "<class 'pandas.core.frame.DataFrame'>\n",
      "RangeIndex: 1026 entries, 0 to 1025\n",
      "Data columns (total 36 columns):\n",
      " #   Column           Non-Null Count  Dtype                                 \n",
      "---  ------           --------------  -----                                 \n",
      " 0   id               1026 non-null   int64                                 \n",
      " 1   conversation_id  1026 non-null   int64                                 \n",
      " 2   created_at       1026 non-null   datetime64[ns, pytz.FixedOffset(-300)]\n",
      " 3   date             1026 non-null   datetime64[ns]                        \n",
      " 4   time             1026 non-null   object                                \n",
      " 5   timezone         1026 non-null   int64                                 \n",
      " 6   user_id          1026 non-null   int64                                 \n",
      " 7   username         1026 non-null   object                                \n",
      " 8   name             1026 non-null   object                                \n",
      " 9   place            1026 non-null   object                                \n",
      " 10  tweet            1026 non-null   object                                \n",
      " 11  language         1026 non-null   object                                \n",
      " 12  mentions         1026 non-null   object                                \n",
      " 13  urls             1026 non-null   object                                \n",
      " 14  photos           1026 non-null   object                                \n",
      " 15  replies_count    1026 non-null   int64                                 \n",
      " 16  retweets_count   1026 non-null   int64                                 \n",
      " 17  likes_count      1026 non-null   int64                                 \n",
      " 18  hashtags         1026 non-null   object                                \n",
      " 19  cashtags         1026 non-null   object                                \n",
      " 20  link             1026 non-null   object                                \n",
      " 21  retweet          1026 non-null   bool                                  \n",
      " 22  quote_url        1026 non-null   object                                \n",
      " 23  video            1026 non-null   int64                                 \n",
      " 24  thumbnail        1026 non-null   object                                \n",
      " 25  near             1026 non-null   object                                \n",
      " 26  geo              1026 non-null   object                                \n",
      " 27  source           1026 non-null   object                                \n",
      " 28  user_rt_id       1026 non-null   object                                \n",
      " 29  user_rt          1026 non-null   object                                \n",
      " 30  retweet_id       1026 non-null   object                                \n",
      " 31  reply_to         1026 non-null   object                                \n",
      " 32  retweet_date     1026 non-null   object                                \n",
      " 33  translate        1026 non-null   object                                \n",
      " 34  trans_src        1026 non-null   object                                \n",
      " 35  trans_dest       1026 non-null   object                                \n",
      "dtypes: bool(1), datetime64[ns, pytz.FixedOffset(-300)](1), datetime64[ns](1), int64(8), object(25)\n",
      "memory usage: 281.7+ KB\n"
     ]
    }
   ],
   "source": [
    "data.info()"
   ]
  },
  {
   "cell_type": "code",
   "execution_count": 5,
   "metadata": {},
   "outputs": [
    {
     "data": {
      "text/plain": [
       "0       1341206151204106241\n",
       "1       1341031364569812992\n",
       "2       1340782914250928135\n",
       "3       1340649911495372800\n",
       "4       1340501298681147392\n",
       "               ...         \n",
       "1021    1327881953786343426\n",
       "1022    1327881944353435648\n",
       "1023    1327881876598648833\n",
       "1024    1327881622448988160\n",
       "1025    1327881601523486722\n",
       "Name: id, Length: 1026, dtype: int64"
      ]
     },
     "execution_count": 5,
     "metadata": {},
     "output_type": "execute_result"
    }
   ],
   "source": [
    "processed_tweets= pd.concat([pd.DataFrame({'tweetID':data.tweetID, 'tweetText':data.tweetText,'polarity_value':data.polarity_value, 'set':data.set}), \n",
    "                             pd.DataFrame({'tweetID':train_set.tweet_id, 'tweetText':train_set.tweetText, 'polarity_value':train_set.polarity_value,'set':train_set.set})], ignore_index=True)\n",
    "processed_tweets['processed_tweet'] = processed_tweets.tweetText\n",
    "processed_tweets.sample(4)"
   ]
  },
  {
   "cell_type": "code",
   "execution_count": null,
   "metadata": {},
   "outputs": [],
   "source": []
  }
 ],
 "metadata": {
  "kernelspec": {
   "display_name": "Python 3",
   "language": "python",
   "name": "python3"
  },
  "language_info": {
   "codemirror_mode": {
    "name": "ipython",
    "version": 3
   },
   "file_extension": ".py",
   "mimetype": "text/x-python",
   "name": "python",
   "nbconvert_exporter": "python",
   "pygments_lexer": "ipython3",
   "version": "3.8.5"
  }
 },
 "nbformat": 4,
 "nbformat_minor": 4
}
