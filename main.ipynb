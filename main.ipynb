{
 "cells": [
  {
   "cell_type": "code",
   "execution_count": 1,
   "metadata": {
    "scrolled": true
   },
   "outputs": [],
   "source": [
    "import pandas as pd\n",
    "import numpy as np\n",
    "from numpy import array\n",
    "import xml.etree.ElementTree as ET\n",
    "import string\n",
    "#re\n",
    "import re\n",
    "#NLTK\n",
    "import nltk\n",
    "from nltk import word_tokenize, WordPunctTokenizer, regexp_tokenize\n",
    "from nltk import word_tokenize, WordPunctTokenizer, regexp_tokenize\n",
    "from nltk.corpus import stopwords\n",
    "#Plotting \n",
    "import matplotlib.pyplot as plt\n",
    "from wordcloud import WordCloud, STOPWORDS\n",
    "\n",
    "\n",
    "\n"
   ]
  },
  {
   "cell_type": "markdown",
   "metadata": {},
   "source": [
    "# Data de entrenamiento"
   ]
  },
  {
   "cell_type": "code",
   "execution_count": 2,
   "metadata": {},
   "outputs": [],
   "source": [
    "\n",
    "tree = ET.parse('train2.xml')\n",
    "root = tree.getroot()"
   ]
  },
  {
   "cell_type": "code",
   "execution_count": 3,
   "metadata": {},
   "outputs": [],
   "source": [
    "train_set = pd.DataFrame({'tweet_id':[],'tweetText':[],'polarity_value':[],'polarity_type':[],'topic':[]})\n",
    "row=0\n",
    "for tweet in root:\n",
    "    tweet_id = 'ID:'+tweet.find('tweetid').text\n",
    "    tweetText = tweet.find('content').text\n",
    "    lang = tweet.find('lang').text\n",
    "    polarity_value = tweet.find('sentiments').find('polarity').find('value').text\n",
    "    polarity_type = tweet.find('sentiments').find('polarity').find('type').text\n",
    "    topic = tweet.find('topics').find('topic').text\n",
    "    \n",
    "    if lang == 'es':\n",
    "        train_set.loc[row] = [tweet_id,tweetText,polarity_value,polarity_type,topic]\n",
    "        row+=1"
   ]
  },
  {
   "cell_type": "code",
   "execution_count": 4,
   "metadata": {},
   "outputs": [],
   "source": [
    "train_set['set']='train'"
   ]
  },
  {
   "cell_type": "code",
   "execution_count": 5,
   "metadata": {},
   "outputs": [
    {
     "data": {
      "text/html": [
       "<div>\n",
       "<style scoped>\n",
       "    .dataframe tbody tr th:only-of-type {\n",
       "        vertical-align: middle;\n",
       "    }\n",
       "\n",
       "    .dataframe tbody tr th {\n",
       "        vertical-align: top;\n",
       "    }\n",
       "\n",
       "    .dataframe thead th {\n",
       "        text-align: right;\n",
       "    }\n",
       "</style>\n",
       "<table border=\"1\" class=\"dataframe\">\n",
       "  <thead>\n",
       "    <tr style=\"text-align: right;\">\n",
       "      <th></th>\n",
       "      <th>tweet_id</th>\n",
       "      <th>tweetText</th>\n",
       "      <th>polarity_value</th>\n",
       "      <th>polarity_type</th>\n",
       "      <th>topic</th>\n",
       "      <th>set</th>\n",
       "    </tr>\n",
       "  </thead>\n",
       "  <tbody>\n",
       "    <tr>\n",
       "      <th>0</th>\n",
       "      <td>ID:142389495503925248</td>\n",
       "      <td>Salgo de #VeoTV , que día más largoooooo...</td>\n",
       "      <td>NONE</td>\n",
       "      <td>AGREEMENT</td>\n",
       "      <td>otros</td>\n",
       "      <td>train</td>\n",
       "    </tr>\n",
       "    <tr>\n",
       "      <th>1</th>\n",
       "      <td>ID:142389933619945473</td>\n",
       "      <td>@PauladeLasHeras No te libraras de ayudar me/n...</td>\n",
       "      <td>NEU</td>\n",
       "      <td>DISAGREEMENT</td>\n",
       "      <td>otros</td>\n",
       "      <td>train</td>\n",
       "    </tr>\n",
       "    <tr>\n",
       "      <th>2</th>\n",
       "      <td>ID:142391947707940864</td>\n",
       "      <td>@marodriguezb Gracias MAR</td>\n",
       "      <td>P</td>\n",
       "      <td>AGREEMENT</td>\n",
       "      <td>otros</td>\n",
       "      <td>train</td>\n",
       "    </tr>\n",
       "    <tr>\n",
       "      <th>3</th>\n",
       "      <td>ID:142416095012339712</td>\n",
       "      <td>Off pensando en el regalito Sinde, la que se v...</td>\n",
       "      <td>N+</td>\n",
       "      <td>AGREEMENT</td>\n",
       "      <td>política</td>\n",
       "      <td>train</td>\n",
       "    </tr>\n",
       "    <tr>\n",
       "      <th>4</th>\n",
       "      <td>ID:142422495721562112</td>\n",
       "      <td>Conozco a alguien q es adicto al drama! Ja ja ...</td>\n",
       "      <td>P+</td>\n",
       "      <td>AGREEMENT</td>\n",
       "      <td>otros</td>\n",
       "      <td>train</td>\n",
       "    </tr>\n",
       "    <tr>\n",
       "      <th>5</th>\n",
       "      <td>ID:142424715175280640</td>\n",
       "      <td>RT @FabHddzC: Si amas a alguien, déjalo libre....</td>\n",
       "      <td>NONE</td>\n",
       "      <td>AGREEMENT</td>\n",
       "      <td>música</td>\n",
       "      <td>train</td>\n",
       "    </tr>\n",
       "    <tr>\n",
       "      <th>6</th>\n",
       "      <td>ID:142483342040907776</td>\n",
       "      <td>Toca @crackoviadeTV3 . Grabación dl especial N...</td>\n",
       "      <td>P+</td>\n",
       "      <td>AGREEMENT</td>\n",
       "      <td>entretenimiento</td>\n",
       "      <td>train</td>\n",
       "    </tr>\n",
       "    <tr>\n",
       "      <th>7</th>\n",
       "      <td>ID:142493511634259968</td>\n",
       "      <td>Hoy asisitiré en Madrid a un seminario sobre l...</td>\n",
       "      <td>NONE</td>\n",
       "      <td>AGREEMENT</td>\n",
       "      <td>política</td>\n",
       "      <td>train</td>\n",
       "    </tr>\n",
       "    <tr>\n",
       "      <th>8</th>\n",
       "      <td>ID:142494476051562496</td>\n",
       "      <td>Buen día todos! Lo primero mandar un abrazo gr...</td>\n",
       "      <td>P+</td>\n",
       "      <td>AGREEMENT</td>\n",
       "      <td>otros</td>\n",
       "      <td>train</td>\n",
       "    </tr>\n",
       "    <tr>\n",
       "      <th>9</th>\n",
       "      <td>ID:142496796416016384</td>\n",
       "      <td>Desde el escaño. Todo listo para empezar #endi...</td>\n",
       "      <td>P+</td>\n",
       "      <td>AGREEMENT</td>\n",
       "      <td>política</td>\n",
       "      <td>train</td>\n",
       "    </tr>\n",
       "  </tbody>\n",
       "</table>\n",
       "</div>"
      ],
      "text/plain": [
       "                tweet_id                                          tweetText  \\\n",
       "0  ID:142389495503925248        Salgo de #VeoTV , que día más largoooooo...   \n",
       "1  ID:142389933619945473  @PauladeLasHeras No te libraras de ayudar me/n...   \n",
       "2  ID:142391947707940864                          @marodriguezb Gracias MAR   \n",
       "3  ID:142416095012339712  Off pensando en el regalito Sinde, la que se v...   \n",
       "4  ID:142422495721562112  Conozco a alguien q es adicto al drama! Ja ja ...   \n",
       "5  ID:142424715175280640  RT @FabHddzC: Si amas a alguien, déjalo libre....   \n",
       "6  ID:142483342040907776  Toca @crackoviadeTV3 . Grabación dl especial N...   \n",
       "7  ID:142493511634259968  Hoy asisitiré en Madrid a un seminario sobre l...   \n",
       "8  ID:142494476051562496  Buen día todos! Lo primero mandar un abrazo gr...   \n",
       "9  ID:142496796416016384  Desde el escaño. Todo listo para empezar #endi...   \n",
       "\n",
       "  polarity_value polarity_type            topic    set  \n",
       "0           NONE     AGREEMENT            otros  train  \n",
       "1            NEU  DISAGREEMENT            otros  train  \n",
       "2              P     AGREEMENT            otros  train  \n",
       "3             N+     AGREEMENT         política  train  \n",
       "4             P+     AGREEMENT            otros  train  \n",
       "5           NONE     AGREEMENT           música  train  \n",
       "6             P+     AGREEMENT  entretenimiento  train  \n",
       "7           NONE     AGREEMENT         política  train  \n",
       "8             P+     AGREEMENT            otros  train  \n",
       "9             P+     AGREEMENT         política  train  "
      ]
     },
     "execution_count": 5,
     "metadata": {},
     "output_type": "execute_result"
    }
   ],
   "source": [
    "#Mostrando la data\n",
    "train_set.head(10)"
   ]
  },
  {
   "cell_type": "code",
   "execution_count": 6,
   "metadata": {},
   "outputs": [],
   "source": [
    "train_set.columns = ['tweet_id', 'tweetText', 'polarity_value', 'polarity_type', 'topic','set']"
   ]
  },
  {
   "cell_type": "code",
   "execution_count": 7,
   "metadata": {},
   "outputs": [
    {
     "data": {
      "text/html": [
       "<div>\n",
       "<style scoped>\n",
       "    .dataframe tbody tr th:only-of-type {\n",
       "        vertical-align: middle;\n",
       "    }\n",
       "\n",
       "    .dataframe tbody tr th {\n",
       "        vertical-align: top;\n",
       "    }\n",
       "\n",
       "    .dataframe thead th {\n",
       "        text-align: right;\n",
       "    }\n",
       "</style>\n",
       "<table border=\"1\" class=\"dataframe\">\n",
       "  <thead>\n",
       "    <tr style=\"text-align: right;\">\n",
       "      <th></th>\n",
       "      <th>tweet_id</th>\n",
       "      <th>tweetText</th>\n",
       "      <th>polarity_value</th>\n",
       "      <th>polarity_type</th>\n",
       "      <th>topic</th>\n",
       "      <th>set</th>\n",
       "    </tr>\n",
       "  </thead>\n",
       "  <tbody>\n",
       "    <tr>\n",
       "      <th>0</th>\n",
       "      <td>ID:142389495503925248</td>\n",
       "      <td>Salgo de #VeoTV , que día más largoooooo...</td>\n",
       "      <td>NONE</td>\n",
       "      <td>AGREEMENT</td>\n",
       "      <td>otros</td>\n",
       "      <td>train</td>\n",
       "    </tr>\n",
       "    <tr>\n",
       "      <th>1</th>\n",
       "      <td>ID:142389933619945473</td>\n",
       "      <td>@PauladeLasHeras No te libraras de ayudar me/n...</td>\n",
       "      <td>NEU</td>\n",
       "      <td>DISAGREEMENT</td>\n",
       "      <td>otros</td>\n",
       "      <td>train</td>\n",
       "    </tr>\n",
       "    <tr>\n",
       "      <th>2</th>\n",
       "      <td>ID:142391947707940864</td>\n",
       "      <td>@marodriguezb Gracias MAR</td>\n",
       "      <td>P</td>\n",
       "      <td>AGREEMENT</td>\n",
       "      <td>otros</td>\n",
       "      <td>train</td>\n",
       "    </tr>\n",
       "    <tr>\n",
       "      <th>3</th>\n",
       "      <td>ID:142416095012339712</td>\n",
       "      <td>Off pensando en el regalito Sinde, la que se v...</td>\n",
       "      <td>N+</td>\n",
       "      <td>AGREEMENT</td>\n",
       "      <td>política</td>\n",
       "      <td>train</td>\n",
       "    </tr>\n",
       "  </tbody>\n",
       "</table>\n",
       "</div>"
      ],
      "text/plain": [
       "                tweet_id                                          tweetText  \\\n",
       "0  ID:142389495503925248        Salgo de #VeoTV , que día más largoooooo...   \n",
       "1  ID:142389933619945473  @PauladeLasHeras No te libraras de ayudar me/n...   \n",
       "2  ID:142391947707940864                          @marodriguezb Gracias MAR   \n",
       "3  ID:142416095012339712  Off pensando en el regalito Sinde, la que se v...   \n",
       "\n",
       "  polarity_value polarity_type     topic    set  \n",
       "0           NONE     AGREEMENT     otros  train  \n",
       "1            NEU  DISAGREEMENT     otros  train  \n",
       "2              P     AGREEMENT     otros  train  \n",
       "3             N+     AGREEMENT  política  train  "
      ]
     },
     "execution_count": 7,
     "metadata": {},
     "output_type": "execute_result"
    }
   ],
   "source": [
    "train_set.head(4)"
   ]
  },
  {
   "cell_type": "code",
   "execution_count": 8,
   "metadata": {},
   "outputs": [
    {
     "data": {
      "text/plain": [
       "política           2715\n",
       "otros              1620\n",
       "entretenimiento    1209\n",
       "economía            525\n",
       "música              412\n",
       "fútbol              225\n",
       "cine                183\n",
       "tecnología          144\n",
       "deportes            101\n",
       "literatura           84\n",
       "Name: topic, dtype: int64"
      ]
     },
     "execution_count": 8,
     "metadata": {},
     "output_type": "execute_result"
    }
   ],
   "source": [
    "train_set.topic.value_counts()"
   ]
  },
  {
   "cell_type": "code",
   "execution_count": 9,
   "metadata": {},
   "outputs": [
    {
     "data": {
      "text/plain": [
       "P+      1652\n",
       "NONE    1482\n",
       "N       1335\n",
       "P       1232\n",
       "N+       847\n",
       "NEU      670\n",
       "Name: polarity_value, dtype: int64"
      ]
     },
     "execution_count": 9,
     "metadata": {},
     "output_type": "execute_result"
    }
   ],
   "source": [
    "train_set.polarity_value.value_counts()"
   ]
  },
  {
   "cell_type": "code",
   "execution_count": 10,
   "metadata": {},
   "outputs": [],
   "source": [
    "train_set = train_set.loc[(train_set.polarity_value == 'P') | (train_set.polarity_value == 'N') ]"
   ]
  },
  {
   "cell_type": "markdown",
   "metadata": {},
   "source": [
    "# Tweets Peruanos "
   ]
  },
  {
   "cell_type": "code",
   "execution_count": 11,
   "metadata": {},
   "outputs": [],
   "source": [
    "tweets=pd.read_json('file.json',lines=True)\n",
    "\n",
    "tweets['set']='test'\n",
    "tweets['polarity_value']=np.NaN\n"
   ]
  },
  {
   "cell_type": "code",
   "execution_count": 12,
   "metadata": {},
   "outputs": [
    {
     "name": "stdout",
     "output_type": "stream",
     "text": [
      "<class 'pandas.core.frame.DataFrame'>\n",
      "RangeIndex: 1026 entries, 0 to 1025\n",
      "Data columns (total 38 columns):\n",
      " #   Column           Non-Null Count  Dtype                                 \n",
      "---  ------           --------------  -----                                 \n",
      " 0   id               1026 non-null   int64                                 \n",
      " 1   conversation_id  1026 non-null   int64                                 \n",
      " 2   created_at       1026 non-null   datetime64[ns, pytz.FixedOffset(-300)]\n",
      " 3   date             1026 non-null   datetime64[ns]                        \n",
      " 4   time             1026 non-null   object                                \n",
      " 5   timezone         1026 non-null   int64                                 \n",
      " 6   user_id          1026 non-null   int64                                 \n",
      " 7   username         1026 non-null   object                                \n",
      " 8   name             1026 non-null   object                                \n",
      " 9   place            1026 non-null   object                                \n",
      " 10  tweet            1026 non-null   object                                \n",
      " 11  language         1026 non-null   object                                \n",
      " 12  mentions         1026 non-null   object                                \n",
      " 13  urls             1026 non-null   object                                \n",
      " 14  photos           1026 non-null   object                                \n",
      " 15  replies_count    1026 non-null   int64                                 \n",
      " 16  retweets_count   1026 non-null   int64                                 \n",
      " 17  likes_count      1026 non-null   int64                                 \n",
      " 18  hashtags         1026 non-null   object                                \n",
      " 19  cashtags         1026 non-null   object                                \n",
      " 20  link             1026 non-null   object                                \n",
      " 21  retweet          1026 non-null   bool                                  \n",
      " 22  quote_url        1026 non-null   object                                \n",
      " 23  video            1026 non-null   int64                                 \n",
      " 24  thumbnail        1026 non-null   object                                \n",
      " 25  near             1026 non-null   object                                \n",
      " 26  geo              1026 non-null   object                                \n",
      " 27  source           1026 non-null   object                                \n",
      " 28  user_rt_id       1026 non-null   object                                \n",
      " 29  user_rt          1026 non-null   object                                \n",
      " 30  retweet_id       1026 non-null   object                                \n",
      " 31  reply_to         1026 non-null   object                                \n",
      " 32  retweet_date     1026 non-null   object                                \n",
      " 33  translate        1026 non-null   object                                \n",
      " 34  trans_src        1026 non-null   object                                \n",
      " 35  trans_dest       1026 non-null   object                                \n",
      " 36  set              1026 non-null   object                                \n",
      " 37  polarity_value   0 non-null      float64                               \n",
      "dtypes: bool(1), datetime64[ns, pytz.FixedOffset(-300)](1), datetime64[ns](1), float64(1), int64(8), object(26)\n",
      "memory usage: 297.7+ KB\n"
     ]
    }
   ],
   "source": [
    "#Dimensiones\n",
    "tweets.info()"
   ]
  },
  {
   "cell_type": "markdown",
   "metadata": {},
   "source": [
    "# Procesando Tweets"
   ]
  },
  {
   "cell_type": "code",
   "execution_count": 13,
   "metadata": {},
   "outputs": [
    {
     "data": {
      "text/html": [
       "<div>\n",
       "<style scoped>\n",
       "    .dataframe tbody tr th:only-of-type {\n",
       "        vertical-align: middle;\n",
       "    }\n",
       "\n",
       "    .dataframe tbody tr th {\n",
       "        vertical-align: top;\n",
       "    }\n",
       "\n",
       "    .dataframe thead th {\n",
       "        text-align: right;\n",
       "    }\n",
       "</style>\n",
       "<table border=\"1\" class=\"dataframe\">\n",
       "  <thead>\n",
       "    <tr style=\"text-align: right;\">\n",
       "      <th></th>\n",
       "      <th>tweetID</th>\n",
       "      <th>tweetText</th>\n",
       "      <th>polarity_value</th>\n",
       "      <th>set</th>\n",
       "      <th>processed_tweet</th>\n",
       "    </tr>\n",
       "  </thead>\n",
       "  <tbody>\n",
       "    <tr>\n",
       "      <th>3457</th>\n",
       "      <td>ID:186336682067505153</td>\n",
       "      <td>Vale, lo reconozco, odio madrugar... http://t....</td>\n",
       "      <td>N</td>\n",
       "      <td>train</td>\n",
       "      <td>Vale, lo reconozco, odio madrugar... http://t....</td>\n",
       "    </tr>\n",
       "    <tr>\n",
       "      <th>1096</th>\n",
       "      <td>ID:143818232397185024</td>\n",
       "      <td>Una vez q ha hablado el protectorado franco-al...</td>\n",
       "      <td>N</td>\n",
       "      <td>train</td>\n",
       "      <td>Una vez q ha hablado el protectorado franco-al...</td>\n",
       "    </tr>\n",
       "    <tr>\n",
       "      <th>3034</th>\n",
       "      <td>ID:178223452665298944</td>\n",
       "      <td>Siglo XIX. El director de la Ford en España qu...</td>\n",
       "      <td>N</td>\n",
       "      <td>train</td>\n",
       "      <td>Siglo XIX. El director de la Ford en España qu...</td>\n",
       "    </tr>\n",
       "    <tr>\n",
       "      <th>3209</th>\n",
       "      <td>ID:181517986291646468</td>\n",
       "      <td>Felicidades @epicuro7 ;)</td>\n",
       "      <td>P</td>\n",
       "      <td>train</td>\n",
       "      <td>Felicidades @epicuro7 ;)</td>\n",
       "    </tr>\n",
       "  </tbody>\n",
       "</table>\n",
       "</div>"
      ],
      "text/plain": [
       "                    tweetID  \\\n",
       "3457  ID:186336682067505153   \n",
       "1096  ID:143818232397185024   \n",
       "3034  ID:178223452665298944   \n",
       "3209  ID:181517986291646468   \n",
       "\n",
       "                                              tweetText polarity_value    set  \\\n",
       "3457  Vale, lo reconozco, odio madrugar... http://t....              N  train   \n",
       "1096  Una vez q ha hablado el protectorado franco-al...              N  train   \n",
       "3034  Siglo XIX. El director de la Ford en España qu...              N  train   \n",
       "3209                           Felicidades @epicuro7 ;)              P  train   \n",
       "\n",
       "                                        processed_tweet  \n",
       "3457  Vale, lo reconozco, odio madrugar... http://t....  \n",
       "1096  Una vez q ha hablado el protectorado franco-al...  \n",
       "3034  Siglo XIX. El director de la Ford en España qu...  \n",
       "3209                           Felicidades @epicuro7 ;)  "
      ]
     },
     "execution_count": 13,
     "metadata": {},
     "output_type": "execute_result"
    }
   ],
   "source": [
    "processed_tweets= pd.concat([pd.DataFrame({'tweetID':tweets.id, 'tweetText':tweets.tweet,'polarity_value':tweets.polarity_value, 'set':tweets.set}), \n",
    "                             pd.DataFrame({'tweetID':train_set.tweet_id, 'tweetText':train_set.tweetText, 'polarity_value':train_set.polarity_value,'set':train_set.set})], ignore_index=True)\n",
    "processed_tweets['processed_tweet'] = processed_tweets.tweetText\n",
    "processed_tweets.sample(4)"
   ]
  },
  {
   "cell_type": "markdown",
   "metadata": {},
   "source": [
    "## Hashtags"
   ]
  },
  {
   "cell_type": "code",
   "execution_count": 14,
   "metadata": {},
   "outputs": [],
   "source": [
    "\n",
    "hash_regex = re.compile(r\"#(\\w+)\")\n",
    "hstgs = [] # To store the hashtags so we can exclude them from some parts of the analysis\n",
    "def hash_repl(match):\n",
    "    _ = '__HASH_'+match.group(1).upper()\n",
    "    hstgs.append(_)\n",
    "    return _"
   ]
  },
  {
   "cell_type": "markdown",
   "metadata": {},
   "source": [
    "## USERNAMES"
   ]
  },
  {
   "cell_type": "code",
   "execution_count": 15,
   "metadata": {},
   "outputs": [],
   "source": [
    "user_regex = re.compile(r\"@(\\w+)\")\n",
    "usr_names = [] # To store the user names so we can exclude them from some parts of the analysis\n",
    "def user_repl(match):\n",
    "    _ = '__user_'+match.group(1).upper()\n",
    "    usr_names.append(_)\n",
    "    return _"
   ]
  },
  {
   "cell_type": "markdown",
   "metadata": {},
   "source": [
    "## URLs"
   ]
  },
  {
   "cell_type": "code",
   "execution_count": 16,
   "metadata": {},
   "outputs": [],
   "source": [
    "url_regex = re.compile(r\"(http|https|ftp)://[a-zA-Z0-9\\./]+\")\n",
    "def url_repl(match):\n",
    "    return '__URL_'\n"
   ]
  },
  {
   "cell_type": "markdown",
   "metadata": {},
   "source": [
    "## REPETI"
   ]
  },
  {
   "cell_type": "code",
   "execution_count": 17,
   "metadata": {},
   "outputs": [],
   "source": [
    "\n",
    "rpt_regex = re.compile(r\"(.)\\1{1,}\", re.IGNORECASE);\n",
    "def rpt_repl(match):\n",
    "    return match.group(1)+match.group(1)"
   ]
  },
  {
   "cell_type": "code",
   "execution_count": 18,
   "metadata": {},
   "outputs": [
    {
     "data": {
      "text/plain": [
       "'Reppeated characters in wordss'"
      ]
     },
     "execution_count": 18,
     "metadata": {},
     "output_type": "execute_result"
    }
   ],
   "source": [
    "# Test\n",
    "re.sub(rpt_regex, rpt_repl, \"Reppppeated characters in wordsssssssss\" )"
   ]
  },
  {
   "cell_type": "markdown",
   "metadata": {},
   "source": [
    "## Puntuacion"
   ]
  },
  {
   "cell_type": "code",
   "execution_count": 19,
   "metadata": {},
   "outputs": [],
   "source": [
    "# Spliting by word boundaries\n",
    "word_bound_regex = re.compile(r\"\\W+\")\n",
    "\n",
    "# Punctuations\n",
    "punctuations = \\\n",
    "\t[\t#('',\t\t['.', ] )\t,\\\n",
    "\t\t#('',\t\t[',', ] )\t,\\\n",
    "\t\t#('',\t\t['\\'', '\\\"', ] )\t,\\\n",
    "\t\t('__PUNC_EXCL',\t\t['!', '¡', ] )\t,\\\n",
    "\t\t('__PUNC_QUES',\t\t['?', '¿', ] )\t,\\\n",
    "\t\t('__PUNC_ELLP',\t\t['...', '…', ] )\t,\\\n",
    "\t]\n",
    "\n",
    "#For punctuation replacement\n",
    "def punctuations_repl(match):\n",
    "\ttext = match.group(0)\n",
    "\trepl = []\n",
    "\tfor (key, parr) in punctuations :\n",
    "\t\tfor punc in parr :\n",
    "\t\t\tif punc in text:\n",
    "\t\t\t\trepl.append(key)\n",
    "\tif( len(repl)>0 ) :\n",
    "\t\treturn ' '+' '.join(repl)+' '\n",
    "\telse :\n",
    "\t\treturn ' '"
   ]
  },
  {
   "cell_type": "code",
   "execution_count": null,
   "metadata": {},
   "outputs": [],
   "source": []
  },
  {
   "cell_type": "markdown",
   "metadata": {},
   "source": [
    "## Stemming"
   ]
  },
  {
   "cell_type": "code",
   "execution_count": 20,
   "metadata": {},
   "outputs": [],
   "source": [
    "from nltk.stem import SnowballStemmer\n",
    "stemmer = SnowballStemmer('spanish')"
   ]
  },
  {
   "cell_type": "code",
   "execution_count": 21,
   "metadata": {},
   "outputs": [
    {
     "name": "stdout",
     "output_type": "stream",
     "text": [
      "@MerinoDeLama Tienes el repudio de gran parte de la población peruana. #merinonomerepresenta\n",
      "------------------\n",
      "@merinodelam tien repudi gran part poblacion peruana. #merinonomerepresent\n"
     ]
    }
   ],
   "source": [
    "# Test\n",
    "text = processed_tweets.processed_tweet[55]\n",
    "print(text)\n",
    "text = [word if(word[0:2]=='__') else word.lower() for word in text.split() if ((len(word) >= 3) and (word not in usr_names))]\n",
    "text = [stemmer.stem(w) for w in text]                \n",
    "text = \" \".join(text)\n",
    "print('------------------')\n",
    "print(text)"
   ]
  },
  {
   "cell_type": "code",
   "execution_count": 22,
   "metadata": {},
   "outputs": [],
   "source": [
    "def sb_stem(text, only_first=0):\n",
    "    text = [word if(word[0:2]=='__') else word.lower() for word in text.split() if ((len(word) >= 3) or (word in ['no','si', 'sí', 'ni']))] #   If we are doing negation analysis, maybe is a better idea to keep the small words (like 'no')\n",
    "    text = [stemmer.stem(w) if w[0:2]!='__' else w for w in text ]\n",
    "    \n",
    "    return(text)"
   ]
  },
  {
   "cell_type": "code",
   "execution_count": 23,
   "metadata": {},
   "outputs": [],
   "source": [
    "\n",
    "def processAll(text):\n",
    "    text = re.sub( hash_regex, hash_repl, text )\n",
    "    text = re.sub( user_regex, user_repl, text)\n",
    "    text = re.sub( url_regex, url_repl, text )\n",
    "    \n",
    "    text = text.replace('\\'','')\n",
    "    \n",
    "    text = re.sub( word_bound_regex , punctuations_repl, text )\n",
    "    text = re.sub( rpt_regex, rpt_repl, text )\n",
    "    \n",
    "    text = sb_stem(text)    \n",
    "    return text"
   ]
  },
  {
   "cell_type": "code",
   "execution_count": 24,
   "metadata": {},
   "outputs": [
    {
     "data": {
      "text/plain": [
       "['aasd',\n",
       " '__PUNC_EXCL',\n",
       " '__PUNC_QUES',\n",
       " '__user_HOLA',\n",
       " '__HASH_AEAMANITO',\n",
       " '__URL_',\n",
       " 'asd']"
      ]
     },
     "execution_count": 24,
     "metadata": {},
     "output_type": "execute_result"
    }
   ],
   "source": [
    "d=\"Aasda!.? @Hola #AeaManito https://facebo.com asd\"\n",
    "processAll(d)"
   ]
  },
  {
   "cell_type": "markdown",
   "metadata": {},
   "source": [
    "# Procesamiento de tweets"
   ]
  },
  {
   "cell_type": "code",
   "execution_count": 25,
   "metadata": {},
   "outputs": [],
   "source": [
    "processed_tweets['processed_tweet'] = processed_tweets.tweetText.apply(processAll)\n"
   ]
  },
  {
   "cell_type": "code",
   "execution_count": 26,
   "metadata": {},
   "outputs": [
    {
     "data": {
      "text/html": [
       "<div>\n",
       "<style scoped>\n",
       "    .dataframe tbody tr th:only-of-type {\n",
       "        vertical-align: middle;\n",
       "    }\n",
       "\n",
       "    .dataframe tbody tr th {\n",
       "        vertical-align: top;\n",
       "    }\n",
       "\n",
       "    .dataframe thead th {\n",
       "        text-align: right;\n",
       "    }\n",
       "</style>\n",
       "<table border=\"1\" class=\"dataframe\">\n",
       "  <thead>\n",
       "    <tr style=\"text-align: right;\">\n",
       "      <th></th>\n",
       "      <th>tweetID</th>\n",
       "      <th>tweetText</th>\n",
       "      <th>polarity_value</th>\n",
       "      <th>set</th>\n",
       "      <th>processed_tweet</th>\n",
       "    </tr>\n",
       "  </thead>\n",
       "  <tbody>\n",
       "    <tr>\n",
       "      <th>2013</th>\n",
       "      <td>ID:162536772981633024</td>\n",
       "      <td>Médicos Sin Fronteras cesa su actividad en las...</td>\n",
       "      <td>N</td>\n",
       "      <td>train</td>\n",
       "      <td>[medic, sin, fronter, ces, activ, las, carcel,...</td>\n",
       "    </tr>\n",
       "    <tr>\n",
       "      <th>880</th>\n",
       "      <td>1327953420288995329</td>\n",
       "      <td>TW // police brutality //  Please help share w...</td>\n",
       "      <td>NaN</td>\n",
       "      <td>test</td>\n",
       "      <td>[polic, brutality, ple, help, shar, what, happ...</td>\n",
       "    </tr>\n",
       "    <tr>\n",
       "      <th>1414</th>\n",
       "      <td>ID:149975158763958273</td>\n",
       "      <td>Mucho ánimo para los compañeros de ADN</td>\n",
       "      <td>P</td>\n",
       "      <td>train</td>\n",
       "      <td>[much, anim, par, los, compañer, adn]</td>\n",
       "    </tr>\n",
       "    <tr>\n",
       "      <th>3548</th>\n",
       "      <td>ID:188714489493979139</td>\n",
       "      <td>En el imperio del balompié nunca se pone el gol.</td>\n",
       "      <td>P</td>\n",
       "      <td>train</td>\n",
       "      <td>[imperi, del, balompi, nunc, pon, gol]</td>\n",
       "    </tr>\n",
       "  </tbody>\n",
       "</table>\n",
       "</div>"
      ],
      "text/plain": [
       "                    tweetID  \\\n",
       "2013  ID:162536772981633024   \n",
       "880     1327953420288995329   \n",
       "1414  ID:149975158763958273   \n",
       "3548  ID:188714489493979139   \n",
       "\n",
       "                                              tweetText polarity_value    set  \\\n",
       "2013  Médicos Sin Fronteras cesa su actividad en las...              N  train   \n",
       "880   TW // police brutality //  Please help share w...            NaN   test   \n",
       "1414             Mucho ánimo para los compañeros de ADN              P  train   \n",
       "3548   En el imperio del balompié nunca se pone el gol.              P  train   \n",
       "\n",
       "                                        processed_tweet  \n",
       "2013  [medic, sin, fronter, ces, activ, las, carcel,...  \n",
       "880   [polic, brutality, ple, help, shar, what, happ...  \n",
       "1414              [much, anim, par, los, compañer, adn]  \n",
       "3548             [imperi, del, balompi, nunc, pon, gol]  "
      ]
     },
     "execution_count": 26,
     "metadata": {},
     "output_type": "execute_result"
    }
   ],
   "source": [
    "processed_tweets.sample(4)"
   ]
  },
  {
   "cell_type": "markdown",
   "metadata": {},
   "source": [
    "## Funciones"
   ]
  },
  {
   "cell_type": "markdown",
   "metadata": {},
   "source": [
    "### Emoticones"
   ]
  },
  {
   "cell_type": "code",
   "execution_count": 27,
   "metadata": {},
   "outputs": [],
   "source": [
    "# Emoticons\n",
    "emoticons = \\\n",
    "\t[\t# For __EMOT_SMILEY\n",
    "        (' __emoji: U+1F601',\t[':-)', ':)', '(:', '(-:', ] )\t,\\\n",
    "        # for __EMOT_LAUGH\n",
    "\t\t(' __emoji: U+1F923',\t\t[':-D', ':D', 'X-D', 'XD', 'xD', ] )\t,\\\n",
    "        # For __EMOT_LOVE\n",
    "\t\t(' __emoji: U+2764',\t\t['<3', ':\\*', ] )\t,\\\n",
    "        # For __EMOT_WINK\n",
    "\t\t('__emoji: U+1F609',\t\t[';-)', ';)', ';-D', ';D', '(;', '(-;', ] )\t,\\\n",
    "        # For __EMOT_FROWN\n",
    "\t\t(' __emoji: U+2639',\t\t[':-(', ':(', '(:', '(-:', ] )\t,\\\n",
    "        # For __EMOT_CRY\n",
    "\t\t(' __emoji: U+1F622',\t\t[':,(', ':\\'(', ':\"(', ':(('] )\t,\\\n",
    "\t]\n",
    "    \n",
    "def escape_paren(arr):\n",
    "\treturn [text.replace(')', '[)}\\]]').replace('(', '[({\\[]') for text in arr]\n",
    "\n",
    "def regex_union(arr):\n",
    "\treturn '(' + '|'.join( arr ) + ')'\n",
    "\n",
    "emoticons_regex = [ (repl, re.compile(regex_union(escape_paren(regx))) ) for (repl, regx) in emoticons ]"
   ]
  },
  {
   "cell_type": "code",
   "execution_count": 28,
   "metadata": {},
   "outputs": [
    {
     "name": "stdout",
     "output_type": "stream",
     "text": [
      "This is a text with one emoticon   __emoji: U+1F601  and another   __emoji: U+2639 \n"
     ]
    }
   ],
   "source": [
    "# Test\n",
    "text = \"This is a text with one emoticon :) and another :(\"\n",
    "for (repl, regx) in emoticons_regex :\n",
    "    text = re.sub(regx, ' '+repl+' ', text)\n",
    "    \n",
    "print(text)"
   ]
  },
  {
   "cell_type": "code",
   "execution_count": 29,
   "metadata": {},
   "outputs": [
    {
     "data": {
      "text/html": [
       "<div>\n",
       "<style scoped>\n",
       "    .dataframe tbody tr th:only-of-type {\n",
       "        vertical-align: middle;\n",
       "    }\n",
       "\n",
       "    .dataframe tbody tr th {\n",
       "        vertical-align: top;\n",
       "    }\n",
       "\n",
       "    .dataframe thead th {\n",
       "        text-align: right;\n",
       "    }\n",
       "</style>\n",
       "<table border=\"1\" class=\"dataframe\">\n",
       "  <thead>\n",
       "    <tr style=\"text-align: right;\">\n",
       "      <th></th>\n",
       "      <th>emoji_category</th>\n",
       "      <th>number</th>\n",
       "      <th>code</th>\n",
       "      <th>CLDR_Short_Name</th>\n",
       "    </tr>\n",
       "  </thead>\n",
       "  <tbody>\n",
       "    <tr>\n",
       "      <th>0</th>\n",
       "      <td>face-positive</td>\n",
       "      <td>1</td>\n",
       "      <td>U+1F600</td>\n",
       "      <td>grinning face</td>\n",
       "    </tr>\n",
       "    <tr>\n",
       "      <th>1</th>\n",
       "      <td>face-positive</td>\n",
       "      <td>2</td>\n",
       "      <td>U+1F601</td>\n",
       "      <td>beaming face with smiling eyes</td>\n",
       "    </tr>\n",
       "    <tr>\n",
       "      <th>2</th>\n",
       "      <td>face-positive</td>\n",
       "      <td>3</td>\n",
       "      <td>U+1F602</td>\n",
       "      <td>face with tears of joy</td>\n",
       "    </tr>\n",
       "    <tr>\n",
       "      <th>3</th>\n",
       "      <td>face-positive</td>\n",
       "      <td>4</td>\n",
       "      <td>U+1F923</td>\n",
       "      <td>rolling on the floor laughing</td>\n",
       "    </tr>\n",
       "    <tr>\n",
       "      <th>4</th>\n",
       "      <td>face-positive</td>\n",
       "      <td>5</td>\n",
       "      <td>U+1F603</td>\n",
       "      <td>grinning face with big eyes</td>\n",
       "    </tr>\n",
       "  </tbody>\n",
       "</table>\n",
       "</div>"
      ],
      "text/plain": [
       "  emoji_category  number     code                 CLDR_Short_Name\n",
       "0  face-positive       1  U+1F600                   grinning face\n",
       "1  face-positive       2  U+1F601  beaming face with smiling eyes\n",
       "2  face-positive       3  U+1F602          face with tears of joy\n",
       "3  face-positive       4  U+1F923   rolling on the floor laughing\n",
       "4  face-positive       5  U+1F603     grinning face with big eyes"
      ]
     },
     "execution_count": 29,
     "metadata": {},
     "output_type": "execute_result"
    }
   ],
   "source": [
    "emojis_db=pd.read_csv('emojis_db_csv.csv')\n",
    "emojis_db.head()"
   ]
  },
  {
   "cell_type": "code",
   "execution_count": 30,
   "metadata": {},
   "outputs": [],
   "source": [
    "def emojis_unicode(tweet):\n",
    "    ''' Extracts the emojis on the tweet on Unicode format, also tries to match those in regular format, such as \";)\" '''\n",
    "    for (repl, regx) in emoticons_regex :\n",
    "        tweet = re.sub(regx, ' '+repl+' ', tweet)\n",
    "#     print(tweet)\n",
    "\n",
    "    tweet_unicode = str(tweet.encode('unicode-escape'))\n",
    "    tweet_unicode = tweet_unicode.replace('\\\\\\\\U000',' __emoji: U+')\n",
    "#     print(tweet_unicode)\n",
    "    \n",
    "    emoji_list = []\n",
    "#     print(tweet)\n",
    "    for emoji in range(tweet_unicode.count(' __emoji: ')):\n",
    "        em = tweet_unicode.split('__emoji: ')[emoji+1].split()[0]\n",
    "        em = em[:7] # the len of the emoji in unicode is between 6 and 7\n",
    "        emoji_list.append(em.upper())\n",
    "    return emoji_list"
   ]
  },
  {
   "cell_type": "code",
   "execution_count": 31,
   "metadata": {},
   "outputs": [
    {
     "data": {
      "text/plain": [
       "['U+1F621', 'U+1F923', 'U+1F602']"
      ]
     },
     "execution_count": 31,
     "metadata": {},
     "output_type": "execute_result"
    }
   ],
   "source": [
    "# Test\n",
    "text = \"😡🤣😂\"\n",
    "emojis_unicode(text)"
   ]
  },
  {
   "cell_type": "code",
   "execution_count": 32,
   "metadata": {},
   "outputs": [
    {
     "data": {
      "text/plain": [
       "['face-negative', 'face-positive', 'face-positive']"
      ]
     },
     "execution_count": 32,
     "metadata": {},
     "output_type": "execute_result"
    }
   ],
   "source": [
    "def emoji_category(emojis):\n",
    "    categories = []\n",
    "    for i in range(len(emojis)):\n",
    "        # print(emojis[i])\n",
    "        try:\n",
    "            categories.append(emojis_db.loc[emojis_db.code == emojis[i]].emoji_category.values[0])\n",
    "        except:\n",
    "            try:\n",
    "                _ = emojis[i].split('+')[1] + '+'\n",
    "                categories.append(emojis_db[emojis_db.code.str.contains(_)].emoji_category.values[0])\n",
    "            except:\n",
    "                categories.append('other')\n",
    "    if len(categories) < 1:\n",
    "        categories.append('no_emojis')\n",
    "    return categories\n",
    "\n",
    "emoji_category(emojis_unicode(text))"
   ]
  },
  {
   "cell_type": "code",
   "execution_count": 33,
   "metadata": {},
   "outputs": [],
   "source": [
    "\n",
    "# Wrapper function that encloses all the n-grams procedures\n",
    "def get_word_features(words):\n",
    "    bag = {}\n",
    "    words_uni = [ 'has(%s)'% ug for ug in words ]\n",
    "    words_bi  = [ 'has(%s)'% ','.join(map(str,bg)) for bg in nltk.bigrams(words) ]\n",
    "    words_tri = [ 'has(%s)'% ','.join(map(str,tg)) for tg in nltk.trigrams(words) ]\n",
    "    \n",
    "    for f in words_uni+words_bi+words_tri:\n",
    "        bag[f] = 1\n",
    "\n",
    "    return bag"
   ]
  },
  {
   "cell_type": "markdown",
   "metadata": {},
   "source": [
    "### Negacion"
   ]
  },
  {
   "cell_type": "code",
   "execution_count": 34,
   "metadata": {},
   "outputs": [],
   "source": [
    "negtn_regex = re.compile( r\"\"\"(?:\n",
    "    ^(?:nunca|no|nada|ningún|ninguno|ninguna|tampoco|\n",
    "        nunc|nad|ningun|tampoc\n",
    "    )$\n",
    ")\n",
    "|\n",
    "n't\n",
    "\"\"\", re.X)\n",
    "\n",
    "def get_negation_features(words):\n",
    "    INF = 0.0\n",
    "    negtn = [ bool(negtn_regex.search(w)) for w in words ]\n",
    "\n",
    "    left = [0.0] * len(words)\n",
    "    prev = 0.0\n",
    "    for i in range(0,len(words)):\n",
    "        if( negtn[i] ):\n",
    "            prev = 1.0\n",
    "        left[i] = prev\n",
    "        prev = max( 0.0, prev-0.1)\n",
    "\n",
    "    right = [0.0] * len(words)\n",
    "    prev = 0.0\n",
    "    for i in reversed(range(0,len(words))):\n",
    "        if( negtn[i] ):\n",
    "            prev = 1.0\n",
    "        right[i] = prev\n",
    "        prev = max( 0.0, prev-0.1)\n",
    "\n",
    "    return dict( zip(\n",
    "                    ['neg_l('+w+')' for w in  words] + ['neg_r('+w+')' for w in  words],\n",
    "                    left + right ) )"
   ]
  },
  {
   "cell_type": "code",
   "execution_count": 35,
   "metadata": {},
   "outputs": [
    {
     "data": {
      "text/plain": [
       "{'neg_l(Este)': 0.0,\n",
       " 'neg_l(tweet)': 0.0,\n",
       " 'neg_l(no)': 1.0,\n",
       " 'neg_l(es)': 0.9,\n",
       " 'neg_l(positivo)': 0.8,\n",
       " 'neg_r(Este)': 0.8,\n",
       " 'neg_r(tweet)': 0.9,\n",
       " 'neg_r(no)': 1.0,\n",
       " 'neg_r(es)': 0.0,\n",
       " 'neg_r(positivo)': 0.0}"
      ]
     },
     "execution_count": 35,
     "metadata": {},
     "output_type": "execute_result"
    }
   ],
   "source": [
    "# Test\n",
    "text = [\"Este\",\"tweet\", \"no\", \"es\", \"positivo\"]\n",
    "get_negation_features(text)\n"
   ]
  },
  {
   "cell_type": "markdown",
   "metadata": {},
   "source": [
    "# STOP WORDS"
   ]
  },
  {
   "cell_type": "code",
   "execution_count": 36,
   "metadata": {},
   "outputs": [
    {
     "data": {
      "image/png": "[encoded data removed]",
      "text/plain": [
       "<Figure size 432x288 with 1 Axes>"
      ]
     },
     "metadata": {
      "needs_background": "light"
     },
     "output_type": "display_data"
    }
   ],
   "source": [
    "punctuation = list(string.punctuation)\n",
    "stop = stopwords.words('spanish') + punctuation + ['rt', 'via']\n",
    "wordcloud = WordCloud(\n",
    "                          background_color='white',\n",
    "                          stopwords=stop,\n",
    "                          max_words=150,\n",
    "                          max_font_size=50, \n",
    "                          random_state=42\n",
    "                         ).generate(str(processed_tweets['tweetText']))\n",
    "plt.imshow(wordcloud)\n",
    "plt.rcParams[\"figure.figsize\"] = (10,10)\n",
    "plt.axis('off')\n",
    "plt.title(\"Tweets frecuentes\")\n",
    "plt.show()"
   ]
  },
  {
   "cell_type": "code",
   "execution_count": null,
   "metadata": {},
   "outputs": [],
   "source": []
  }
 ],
 "metadata": {
  "kernelspec": {
   "display_name": "Python 3",
   "language": "python",
   "name": "python3"
  },
  "language_info": {
   "codemirror_mode": {
    "name": "ipython",
    "version": 3
   },
   "file_extension": ".py",
   "mimetype": "text/x-python",
   "name": "python",
   "nbconvert_exporter": "python",
   "pygments_lexer": "ipython3",
   "version": "3.8.5"
  }
 },
 "nbformat": 4,
 "nbformat_minor": 4
}
