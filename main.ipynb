{
 "cells": [
  {
   "cell_type": "code",
   "execution_count": 1,
   "metadata": {
    "scrolled": true
   },
   "outputs": [],
   "source": [
    "import pandas as pd\n",
    "import numpy as np\n",
    "from numpy import array\n",
    "import xml.etree.ElementTree as ET\n",
    "import string\n",
    "\n",
    "import re\n",
    "#NLTK\n",
    "import nltk\n",
    "from nltk import word_tokenize, WordPunctTokenizer, regexp_tokenize\n",
    "from nltk import word_tokenize, WordPunctTokenizer, regexp_tokenize\n",
    "from nltk.corpus import stopwords\n",
    "#Plotting \n",
    "import matplotlib.pyplot as plt\n",
    "from wordcloud import WordCloud, STOPWORDS\n"
   ]
  },
  {
   "cell_type": "markdown",
   "metadata": {},
   "source": [
    "# Data de entrenamiento"
   ]
  },
  {
   "cell_type": "code",
   "execution_count": 2,
   "metadata": {},
   "outputs": [],
   "source": [
    "tree = ET.parse('train.xml')\n",
    "root = tree.getroot()"
   ]
  },
  {
   "cell_type": "code",
   "execution_count": 3,
   "metadata": {},
   "outputs": [],
   "source": [
    "train_set = pd.DataFrame({'tweet_id':[],'tweetText':[],'polarity_value':[],'polarity_type':[],'topic':[]})\n",
    "row=0\n",
    "for tweet in root:\n",
    "    tweet_id = 'ID:'+tweet.find('tweetid').text\n",
    "    tweetText = tweet.find('content').text\n",
    "    lang = tweet.find('lang').text\n",
    "    polarity_value = tweet.find('sentiments').find('polarity').find('value').text\n",
    "    polarity_type = tweet.find('sentiments').find('polarity').find('type').text\n",
    "    topic = tweet.find('topics').find('topic').text\n",
    "    \n",
    "    if lang == 'es':\n",
    "        train_set.loc[row] = [tweet_id,tweetText,polarity_value,polarity_type,topic]\n",
    "        row+=1"
   ]
  },
  {
   "cell_type": "code",
   "execution_count": 4,
   "metadata": {},
   "outputs": [],
   "source": [
    "train_set['set']='train'"
   ]
  },
  {
   "cell_type": "code",
   "execution_count": 5,
   "metadata": {},
   "outputs": [
    {
     "data": {
      "text/html": [
       "<div>\n",
       "<style scoped>\n",
       "    .dataframe tbody tr th:only-of-type {\n",
       "        vertical-align: middle;\n",
       "    }\n",
       "\n",
       "    .dataframe tbody tr th {\n",
       "        vertical-align: top;\n",
       "    }\n",
       "\n",
       "    .dataframe thead th {\n",
       "        text-align: right;\n",
       "    }\n",
       "</style>\n",
       "<table border=\"1\" class=\"dataframe\">\n",
       "  <thead>\n",
       "    <tr style=\"text-align: right;\">\n",
       "      <th></th>\n",
       "      <th>tweet_id</th>\n",
       "      <th>tweetText</th>\n",
       "      <th>polarity_value</th>\n",
       "      <th>polarity_type</th>\n",
       "      <th>topic</th>\n",
       "      <th>set</th>\n",
       "    </tr>\n",
       "  </thead>\n",
       "  <tbody>\n",
       "    <tr>\n",
       "      <th>0</th>\n",
       "      <td>ID:142389495503925248</td>\n",
       "      <td>Salgo de #VeoTV , que día más largoooooo...</td>\n",
       "      <td>NONE</td>\n",
       "      <td>AGREEMENT</td>\n",
       "      <td>otros</td>\n",
       "      <td>train</td>\n",
       "    </tr>\n",
       "    <tr>\n",
       "      <th>1</th>\n",
       "      <td>ID:142389933619945473</td>\n",
       "      <td>@PauladeLasHeras No te libraras de ayudar me/n...</td>\n",
       "      <td>NEU</td>\n",
       "      <td>DISAGREEMENT</td>\n",
       "      <td>otros</td>\n",
       "      <td>train</td>\n",
       "    </tr>\n",
       "    <tr>\n",
       "      <th>2</th>\n",
       "      <td>ID:142391947707940864</td>\n",
       "      <td>@marodriguezb Gracias MAR</td>\n",
       "      <td>P</td>\n",
       "      <td>AGREEMENT</td>\n",
       "      <td>otros</td>\n",
       "      <td>train</td>\n",
       "    </tr>\n",
       "    <tr>\n",
       "      <th>3</th>\n",
       "      <td>ID:142416095012339712</td>\n",
       "      <td>Off pensando en el regalito Sinde, la que se v...</td>\n",
       "      <td>N</td>\n",
       "      <td>AGREEMENT</td>\n",
       "      <td>política</td>\n",
       "      <td>train</td>\n",
       "    </tr>\n",
       "    <tr>\n",
       "      <th>4</th>\n",
       "      <td>ID:142422495721562112</td>\n",
       "      <td>Conozco a alguien q es adicto al drama! Ja ja ...</td>\n",
       "      <td>P</td>\n",
       "      <td>AGREEMENT</td>\n",
       "      <td>otros</td>\n",
       "      <td>train</td>\n",
       "    </tr>\n",
       "    <tr>\n",
       "      <th>5</th>\n",
       "      <td>ID:142424715175280640</td>\n",
       "      <td>RT @FabHddzC: Si amas a alguien, déjalo libre....</td>\n",
       "      <td>NONE</td>\n",
       "      <td>AGREEMENT</td>\n",
       "      <td>música</td>\n",
       "      <td>train</td>\n",
       "    </tr>\n",
       "    <tr>\n",
       "      <th>6</th>\n",
       "      <td>ID:142483342040907776</td>\n",
       "      <td>Toca @crackoviadeTV3 . Grabación dl especial N...</td>\n",
       "      <td>P</td>\n",
       "      <td>AGREEMENT</td>\n",
       "      <td>entretenimiento</td>\n",
       "      <td>train</td>\n",
       "    </tr>\n",
       "    <tr>\n",
       "      <th>7</th>\n",
       "      <td>ID:142493511634259968</td>\n",
       "      <td>Hoy asisitiré en Madrid a un seminario sobre l...</td>\n",
       "      <td>NONE</td>\n",
       "      <td>AGREEMENT</td>\n",
       "      <td>política</td>\n",
       "      <td>train</td>\n",
       "    </tr>\n",
       "    <tr>\n",
       "      <th>8</th>\n",
       "      <td>ID:142494476051562496</td>\n",
       "      <td>Buen día todos! Lo primero mandar un abrazo gr...</td>\n",
       "      <td>P</td>\n",
       "      <td>AGREEMENT</td>\n",
       "      <td>otros</td>\n",
       "      <td>train</td>\n",
       "    </tr>\n",
       "    <tr>\n",
       "      <th>9</th>\n",
       "      <td>ID:142496796416016384</td>\n",
       "      <td>Desde el escaño. Todo listo para empezar #endi...</td>\n",
       "      <td>P</td>\n",
       "      <td>AGREEMENT</td>\n",
       "      <td>política</td>\n",
       "      <td>train</td>\n",
       "    </tr>\n",
       "  </tbody>\n",
       "</table>\n",
       "</div>"
      ],
      "text/plain": [
       "                tweet_id                                          tweetText  \\\n",
       "0  ID:142389495503925248        Salgo de #VeoTV , que día más largoooooo...   \n",
       "1  ID:142389933619945473  @PauladeLasHeras No te libraras de ayudar me/n...   \n",
       "2  ID:142391947707940864                          @marodriguezb Gracias MAR   \n",
       "3  ID:142416095012339712  Off pensando en el regalito Sinde, la que se v...   \n",
       "4  ID:142422495721562112  Conozco a alguien q es adicto al drama! Ja ja ...   \n",
       "5  ID:142424715175280640  RT @FabHddzC: Si amas a alguien, déjalo libre....   \n",
       "6  ID:142483342040907776  Toca @crackoviadeTV3 . Grabación dl especial N...   \n",
       "7  ID:142493511634259968  Hoy asisitiré en Madrid a un seminario sobre l...   \n",
       "8  ID:142494476051562496  Buen día todos! Lo primero mandar un abrazo gr...   \n",
       "9  ID:142496796416016384  Desde el escaño. Todo listo para empezar #endi...   \n",
       "\n",
       "  polarity_value polarity_type            topic    set  \n",
       "0           NONE     AGREEMENT            otros  train  \n",
       "1            NEU  DISAGREEMENT            otros  train  \n",
       "2              P     AGREEMENT            otros  train  \n",
       "3              N     AGREEMENT         política  train  \n",
       "4              P     AGREEMENT            otros  train  \n",
       "5           NONE     AGREEMENT           música  train  \n",
       "6              P     AGREEMENT  entretenimiento  train  \n",
       "7           NONE     AGREEMENT         política  train  \n",
       "8              P     AGREEMENT            otros  train  \n",
       "9              P     AGREEMENT         política  train  "
      ]
     },
     "execution_count": 5,
     "metadata": {},
     "output_type": "execute_result"
    }
   ],
   "source": [
    "#Mostrando la data\n",
    "train_set.head(10)"
   ]
  },
  {
   "cell_type": "code",
   "execution_count": 6,
   "metadata": {},
   "outputs": [],
   "source": [
    "train_set.columns = ['tweet_id', 'tweetText', 'polarity_value', 'polarity_type', 'topic','set']"
   ]
  },
  {
   "cell_type": "code",
   "execution_count": 7,
   "metadata": {},
   "outputs": [
    {
     "data": {
      "text/html": [
       "<div>\n",
       "<style scoped>\n",
       "    .dataframe tbody tr th:only-of-type {\n",
       "        vertical-align: middle;\n",
       "    }\n",
       "\n",
       "    .dataframe tbody tr th {\n",
       "        vertical-align: top;\n",
       "    }\n",
       "\n",
       "    .dataframe thead th {\n",
       "        text-align: right;\n",
       "    }\n",
       "</style>\n",
       "<table border=\"1\" class=\"dataframe\">\n",
       "  <thead>\n",
       "    <tr style=\"text-align: right;\">\n",
       "      <th></th>\n",
       "      <th>tweet_id</th>\n",
       "      <th>tweetText</th>\n",
       "      <th>polarity_value</th>\n",
       "      <th>polarity_type</th>\n",
       "      <th>topic</th>\n",
       "      <th>set</th>\n",
       "    </tr>\n",
       "  </thead>\n",
       "  <tbody>\n",
       "    <tr>\n",
       "      <th>0</th>\n",
       "      <td>ID:142389495503925248</td>\n",
       "      <td>Salgo de #VeoTV , que día más largoooooo...</td>\n",
       "      <td>NONE</td>\n",
       "      <td>AGREEMENT</td>\n",
       "      <td>otros</td>\n",
       "      <td>train</td>\n",
       "    </tr>\n",
       "    <tr>\n",
       "      <th>1</th>\n",
       "      <td>ID:142389933619945473</td>\n",
       "      <td>@PauladeLasHeras No te libraras de ayudar me/n...</td>\n",
       "      <td>NEU</td>\n",
       "      <td>DISAGREEMENT</td>\n",
       "      <td>otros</td>\n",
       "      <td>train</td>\n",
       "    </tr>\n",
       "    <tr>\n",
       "      <th>2</th>\n",
       "      <td>ID:142391947707940864</td>\n",
       "      <td>@marodriguezb Gracias MAR</td>\n",
       "      <td>P</td>\n",
       "      <td>AGREEMENT</td>\n",
       "      <td>otros</td>\n",
       "      <td>train</td>\n",
       "    </tr>\n",
       "    <tr>\n",
       "      <th>3</th>\n",
       "      <td>ID:142416095012339712</td>\n",
       "      <td>Off pensando en el regalito Sinde, la que se v...</td>\n",
       "      <td>N</td>\n",
       "      <td>AGREEMENT</td>\n",
       "      <td>política</td>\n",
       "      <td>train</td>\n",
       "    </tr>\n",
       "  </tbody>\n",
       "</table>\n",
       "</div>"
      ],
      "text/plain": [
       "                tweet_id                                          tweetText  \\\n",
       "0  ID:142389495503925248        Salgo de #VeoTV , que día más largoooooo...   \n",
       "1  ID:142389933619945473  @PauladeLasHeras No te libraras de ayudar me/n...   \n",
       "2  ID:142391947707940864                          @marodriguezb Gracias MAR   \n",
       "3  ID:142416095012339712  Off pensando en el regalito Sinde, la que se v...   \n",
       "\n",
       "  polarity_value polarity_type     topic    set  \n",
       "0           NONE     AGREEMENT     otros  train  \n",
       "1            NEU  DISAGREEMENT     otros  train  \n",
       "2              P     AGREEMENT     otros  train  \n",
       "3              N     AGREEMENT  política  train  "
      ]
     },
     "execution_count": 7,
     "metadata": {},
     "output_type": "execute_result"
    }
   ],
   "source": [
    "train_set.head(4)"
   ]
  },
  {
   "cell_type": "code",
   "execution_count": 8,
   "metadata": {},
   "outputs": [
    {
     "data": {
      "text/plain": [
       "política           2715\n",
       "otros              1620\n",
       "entretenimiento    1209\n",
       "economía            525\n",
       "música              412\n",
       "fútbol              225\n",
       "cine                183\n",
       "tecnología          144\n",
       "deportes            101\n",
       "literatura           84\n",
       "Name: topic, dtype: int64"
      ]
     },
     "execution_count": 8,
     "metadata": {},
     "output_type": "execute_result"
    }
   ],
   "source": [
    "train_set.topic.value_counts()"
   ]
  },
  {
   "cell_type": "code",
   "execution_count": 9,
   "metadata": {},
   "outputs": [
    {
     "data": {
      "text/plain": [
       "P       2884\n",
       "N       2182\n",
       "NONE    1482\n",
       "NEU      670\n",
       "Name: polarity_value, dtype: int64"
      ]
     },
     "execution_count": 9,
     "metadata": {},
     "output_type": "execute_result"
    }
   ],
   "source": [
    "train_set.polarity_value.value_counts()"
   ]
  },
  {
   "cell_type": "code",
   "execution_count": 10,
   "metadata": {},
   "outputs": [],
   "source": [
    "train_set = train_set.loc[(train_set.polarity_value == 'P') | (train_set.polarity_value == 'N') ]"
   ]
  },
  {
   "cell_type": "markdown",
   "metadata": {},
   "source": [
    "# Tweets Peruanos "
   ]
  },
  {
   "cell_type": "code",
   "execution_count": 11,
   "metadata": {},
   "outputs": [],
   "source": [
    "tweets=pd.read_json('data.json',lines=True)\n",
    "tweets['set']='test'\n",
    "tweets['polarity_value']=np.NaN\n"
   ]
  },
  {
   "cell_type": "code",
   "execution_count": 12,
   "metadata": {},
   "outputs": [
    {
     "name": "stdout",
     "output_type": "stream",
     "text": [
      "<class 'pandas.core.frame.DataFrame'>\n",
      "RangeIndex: 5000 entries, 0 to 4999\n",
      "Data columns (total 38 columns):\n",
      " #   Column           Non-Null Count  Dtype                                 \n",
      "---  ------           --------------  -----                                 \n",
      " 0   id               5000 non-null   int64                                 \n",
      " 1   conversation_id  5000 non-null   int64                                 \n",
      " 2   created_at       5000 non-null   datetime64[ns, pytz.FixedOffset(-300)]\n",
      " 3   date             5000 non-null   datetime64[ns]                        \n",
      " 4   time             5000 non-null   object                                \n",
      " 5   timezone         5000 non-null   int64                                 \n",
      " 6   user_id          5000 non-null   int64                                 \n",
      " 7   username         5000 non-null   object                                \n",
      " 8   name             5000 non-null   object                                \n",
      " 9   place            5000 non-null   object                                \n",
      " 10  tweet            5000 non-null   object                                \n",
      " 11  language         5000 non-null   object                                \n",
      " 12  mentions         5000 non-null   object                                \n",
      " 13  urls             5000 non-null   object                                \n",
      " 14  photos           5000 non-null   object                                \n",
      " 15  replies_count    5000 non-null   int64                                 \n",
      " 16  retweets_count   5000 non-null   int64                                 \n",
      " 17  likes_count      5000 non-null   int64                                 \n",
      " 18  hashtags         5000 non-null   object                                \n",
      " 19  cashtags         5000 non-null   object                                \n",
      " 20  link             5000 non-null   object                                \n",
      " 21  retweet          5000 non-null   bool                                  \n",
      " 22  quote_url        5000 non-null   object                                \n",
      " 23  video            5000 non-null   int64                                 \n",
      " 24  thumbnail        5000 non-null   object                                \n",
      " 25  near             5000 non-null   object                                \n",
      " 26  geo              5000 non-null   object                                \n",
      " 27  source           5000 non-null   object                                \n",
      " 28  user_rt_id       5000 non-null   object                                \n",
      " 29  user_rt          5000 non-null   object                                \n",
      " 30  retweet_id       5000 non-null   object                                \n",
      " 31  reply_to         5000 non-null   object                                \n",
      " 32  retweet_date     5000 non-null   object                                \n",
      " 33  translate        5000 non-null   object                                \n",
      " 34  trans_src        5000 non-null   object                                \n",
      " 35  trans_dest       5000 non-null   object                                \n",
      " 36  set              5000 non-null   object                                \n",
      " 37  polarity_value   0 non-null      float64                               \n",
      "dtypes: bool(1), datetime64[ns, pytz.FixedOffset(-300)](1), datetime64[ns](1), float64(1), int64(8), object(26)\n",
      "memory usage: 1.4+ MB\n"
     ]
    }
   ],
   "source": [
    "#Dimensiones\n",
    "tweets.info()"
   ]
  },
  {
   "cell_type": "markdown",
   "metadata": {},
   "source": [
    "# Procesando Tweets"
   ]
  },
  {
   "cell_type": "code",
   "execution_count": 13,
   "metadata": {},
   "outputs": [
    {
     "data": {
      "text/html": [
       "<div>\n",
       "<style scoped>\n",
       "    .dataframe tbody tr th:only-of-type {\n",
       "        vertical-align: middle;\n",
       "    }\n",
       "\n",
       "    .dataframe tbody tr th {\n",
       "        vertical-align: top;\n",
       "    }\n",
       "\n",
       "    .dataframe thead th {\n",
       "        text-align: right;\n",
       "    }\n",
       "</style>\n",
       "<table border=\"1\" class=\"dataframe\">\n",
       "  <thead>\n",
       "    <tr style=\"text-align: right;\">\n",
       "      <th></th>\n",
       "      <th>tweetID</th>\n",
       "      <th>tweetText</th>\n",
       "      <th>polarity_value</th>\n",
       "      <th>set</th>\n",
       "      <th>processed_tweet</th>\n",
       "    </tr>\n",
       "  </thead>\n",
       "  <tbody>\n",
       "    <tr>\n",
       "      <th>4569</th>\n",
       "      <td>1327725400445874176</td>\n",
       "      <td>@PoliciaPeru Aun estan a tiempo de no embarrar...</td>\n",
       "      <td>NaN</td>\n",
       "      <td>test</td>\n",
       "      <td>@PoliciaPeru Aun estan a tiempo de no embarrar...</td>\n",
       "    </tr>\n",
       "    <tr>\n",
       "      <th>1280</th>\n",
       "      <td>1327753314520412160</td>\n",
       "      <td>Merino No es mi Presidente #Peru  Raus Merino ...</td>\n",
       "      <td>NaN</td>\n",
       "      <td>test</td>\n",
       "      <td>Merino No es mi Presidente #Peru  Raus Merino ...</td>\n",
       "    </tr>\n",
       "    <tr>\n",
       "      <th>3240</th>\n",
       "      <td>1327737128181182466</td>\n",
       "      <td>Sexto día consecutivo de protestas. Merino hue...</td>\n",
       "      <td>NaN</td>\n",
       "      <td>test</td>\n",
       "      <td>Sexto día consecutivo de protestas. Merino hue...</td>\n",
       "    </tr>\n",
       "    <tr>\n",
       "      <th>69</th>\n",
       "      <td>1327762687321894912</td>\n",
       "      <td>Es el miedo a la presión popular que hace saca...</td>\n",
       "      <td>NaN</td>\n",
       "      <td>test</td>\n",
       "      <td>Es el miedo a la presión popular que hace saca...</td>\n",
       "    </tr>\n",
       "  </tbody>\n",
       "</table>\n",
       "</div>"
      ],
      "text/plain": [
       "                  tweetID                                          tweetText  \\\n",
       "4569  1327725400445874176  @PoliciaPeru Aun estan a tiempo de no embarrar...   \n",
       "1280  1327753314520412160  Merino No es mi Presidente #Peru  Raus Merino ...   \n",
       "3240  1327737128181182466  Sexto día consecutivo de protestas. Merino hue...   \n",
       "69    1327762687321894912  Es el miedo a la presión popular que hace saca...   \n",
       "\n",
       "     polarity_value   set                                    processed_tweet  \n",
       "4569            NaN  test  @PoliciaPeru Aun estan a tiempo de no embarrar...  \n",
       "1280            NaN  test  Merino No es mi Presidente #Peru  Raus Merino ...  \n",
       "3240            NaN  test  Sexto día consecutivo de protestas. Merino hue...  \n",
       "69              NaN  test  Es el miedo a la presión popular que hace saca...  "
      ]
     },
     "execution_count": 13,
     "metadata": {},
     "output_type": "execute_result"
    }
   ],
   "source": [
    "processed_tweets= pd.concat([pd.DataFrame({'tweetID':tweets.id, 'tweetText':tweets.tweet,'polarity_value':tweets.polarity_value, 'set':tweets.set}), \n",
    "                             pd.DataFrame({'tweetID':train_set.tweet_id, 'tweetText':train_set.tweetText, 'polarity_value':train_set.polarity_value,'set':train_set.set})], ignore_index=True)\n",
    "processed_tweets['processed_tweet'] = processed_tweets.tweetText\n",
    "processed_tweets.sample(4)"
   ]
  },
  {
   "cell_type": "markdown",
   "metadata": {},
   "source": [
    "## Hashtags"
   ]
  },
  {
   "cell_type": "code",
   "execution_count": 14,
   "metadata": {},
   "outputs": [],
   "source": [
    "\n",
    "hash_regex = re.compile(r\"#(\\w+)\")\n",
    "hstgs = [] # Para almacenar los hashtags para que podamos excluirlos de algunas partes del análisis.\n",
    "def hash_repl(match):\n",
    "    _ = '__HASH_'+match.group(1).upper()\n",
    "    hstgs.append(_)\n",
    "    return _"
   ]
  },
  {
   "cell_type": "markdown",
   "metadata": {},
   "source": [
    "## USERNAMES"
   ]
  },
  {
   "cell_type": "code",
   "execution_count": 15,
   "metadata": {},
   "outputs": [],
   "source": [
    "user_regex = re.compile(r\"@(\\w+)\")\n",
    "usr_names = [] #Para almacenar los nombres de usuario para que podamos excluirlos de algunas partes del análisis\n",
    "def user_repl(match):\n",
    "    _ = '__user_'+match.group(1).upper()\n",
    "    usr_names.append(_)\n",
    "    return _"
   ]
  },
  {
   "cell_type": "markdown",
   "metadata": {},
   "source": [
    "## URLs"
   ]
  },
  {
   "cell_type": "code",
   "execution_count": 16,
   "metadata": {},
   "outputs": [],
   "source": [
    "url_regex = re.compile(r\"(http|https|ftp)://[a-zA-Z0-9\\./]+\")\n",
    "def url_repl(match):\n",
    "    return '__URL_'\n"
   ]
  },
  {
   "cell_type": "markdown",
   "metadata": {},
   "source": [
    "## REPETI"
   ]
  },
  {
   "cell_type": "code",
   "execution_count": 17,
   "metadata": {},
   "outputs": [],
   "source": [
    "rpt_regex = re.compile(r\"(.)\\1{1,}\", re.IGNORECASE);\n",
    "def rpt_repl(match):\n",
    "    return match.group(1)+match.group(1)"
   ]
  },
  {
   "cell_type": "code",
   "execution_count": 18,
   "metadata": {},
   "outputs": [
    {
     "data": {
      "text/plain": [
       "'Reppetirr'"
      ]
     },
     "execution_count": 18,
     "metadata": {},
     "output_type": "execute_result"
    }
   ],
   "source": [
    "# Test\n",
    "re.sub(rpt_regex, rpt_repl, \"Repppppppetirrrrrr\" )"
   ]
  },
  {
   "cell_type": "markdown",
   "metadata": {},
   "source": [
    "## Puntuacion"
   ]
  },
  {
   "cell_type": "code",
   "execution_count": 19,
   "metadata": {},
   "outputs": [],
   "source": [
    "# División por límites de palabras\n",
    "word_bound_regex = re.compile(r\"\\W+\")\n",
    "\n",
    "# Puntuacion\n",
    "punctuations = \\\n",
    "\t[\t#('',\t\t['.', ] )\t,\\\n",
    "\t\t#('',\t\t[',', ] )\t,\\\n",
    "\t\t#('',\t\t['\\'', '\\\"', ] )\t,\\\n",
    "\t\t('__PUNC_EXCL',\t\t['!', '¡', ] )\t,\\\n",
    "\t\t('__PUNC_QUES',\t\t['?', '¿', ] )\t,\\\n",
    "\t\t('__PUNC_ELLP',\t\t['...', '…', ] )\t,\\\n",
    "\t]\n",
    "\n",
    "#Para reemplazar la puntuación\n",
    "def punctuations_repl(match):\n",
    "\ttext = match.group(0)\n",
    "\trepl = []\n",
    "\tfor (key, parr) in punctuations :\n",
    "\t\tfor punc in parr :\n",
    "\t\t\tif punc in text:\n",
    "\t\t\t\trepl.append(key)\n",
    "\tif( len(repl)>0 ) :\n",
    "\t\treturn ' '+' '.join(repl)+' '\n",
    "\telse :\n",
    "\t\treturn ' '"
   ]
  },
  {
   "cell_type": "code",
   "execution_count": null,
   "metadata": {},
   "outputs": [],
   "source": []
  },
  {
   "cell_type": "markdown",
   "metadata": {},
   "source": [
    "## Stemming"
   ]
  },
  {
   "cell_type": "code",
   "execution_count": 20,
   "metadata": {},
   "outputs": [],
   "source": [
    "from nltk.stem import SnowballStemmer\n",
    "stemmer = SnowballStemmer('spanish')"
   ]
  },
  {
   "cell_type": "code",
   "execution_count": 21,
   "metadata": {},
   "outputs": [
    {
     "name": "stdout",
     "output_type": "stream",
     "text": [
      "@AlertaNews24 Oeee jajajajajaa pobre la mamá de merino csmre jajajajajaa que se largue esa rataaaa\n",
      "------------------\n",
      "@alertanews24 oeee jajajajaja pobr mam merin csmre jajajajaja que larg esa rataaa\n"
     ]
    }
   ],
   "source": [
    "# Test\n",
    "text = processed_tweets.processed_tweet[55]\n",
    "print(text)\n",
    "text = [word if(word[0:2]=='__') else word.lower() for word in text.split() if ((len(word) >= 3) and (word not in usr_names))]\n",
    "text = [stemmer.stem(w) for w in text]                \n",
    "text = \" \".join(text)\n",
    "print('------------------')\n",
    "print(text)"
   ]
  },
  {
   "cell_type": "code",
   "execution_count": 22,
   "metadata": {},
   "outputs": [],
   "source": [
    "def sb_stem(text, only_first=0):\n",
    "    text = [word if(word[0:2]=='__') else word.lower() for word in text.split() if ((len(word) >= 3) or (word in ['no','si', 'sí', 'ni']))] #   If we are doing negation analysis, maybe is a better idea to keep the small words (like 'no')\n",
    "    text = [stemmer.stem(w) if w[0:2]!='__' else w for w in text ]\n",
    "    \n",
    "    return(text)"
   ]
  },
  {
   "cell_type": "code",
   "execution_count": 23,
   "metadata": {},
   "outputs": [],
   "source": [
    "\n",
    "def processAll(text):\n",
    "    text = re.sub( hash_regex, hash_repl, text )\n",
    "    text = re.sub( user_regex, user_repl, text)\n",
    "    text = re.sub( url_regex, url_repl, text )\n",
    "    \n",
    "    text = text.replace('\\'','')\n",
    "    \n",
    "    text = re.sub( word_bound_regex , punctuations_repl, text )\n",
    "    text = re.sub( rpt_regex, rpt_repl, text )\n",
    "    \n",
    "    text = sb_stem(text)    \n",
    "    return text"
   ]
  },
  {
   "cell_type": "code",
   "execution_count": 24,
   "metadata": {},
   "outputs": [
    {
     "data": {
      "text/plain": [
       "['aasd',\n",
       " '__PUNC_EXCL',\n",
       " '__PUNC_QUES',\n",
       " '__user_HOLA',\n",
       " '__HASH_AEA',\n",
       " '__URL_',\n",
       " 'asd']"
      ]
     },
     "execution_count": 24,
     "metadata": {},
     "output_type": "execute_result"
    }
   ],
   "source": [
    "d=\"Aasda!.? @Hola #Aea https://facebo.com asd\"\n",
    "processAll(d)"
   ]
  },
  {
   "cell_type": "markdown",
   "metadata": {},
   "source": [
    "# Procesamiento de tweets"
   ]
  },
  {
   "cell_type": "code",
   "execution_count": 25,
   "metadata": {},
   "outputs": [],
   "source": [
    "processed_tweets['processed_tweet'] = processed_tweets.tweetText.apply(processAll)\n"
   ]
  },
  {
   "cell_type": "code",
   "execution_count": 26,
   "metadata": {},
   "outputs": [
    {
     "data": {
      "text/html": [
       "<div>\n",
       "<style scoped>\n",
       "    .dataframe tbody tr th:only-of-type {\n",
       "        vertical-align: middle;\n",
       "    }\n",
       "\n",
       "    .dataframe tbody tr th {\n",
       "        vertical-align: top;\n",
       "    }\n",
       "\n",
       "    .dataframe thead th {\n",
       "        text-align: right;\n",
       "    }\n",
       "</style>\n",
       "<table border=\"1\" class=\"dataframe\">\n",
       "  <thead>\n",
       "    <tr style=\"text-align: right;\">\n",
       "      <th></th>\n",
       "      <th>tweetID</th>\n",
       "      <th>tweetText</th>\n",
       "      <th>polarity_value</th>\n",
       "      <th>set</th>\n",
       "      <th>processed_tweet</th>\n",
       "    </tr>\n",
       "  </thead>\n",
       "  <tbody>\n",
       "    <tr>\n",
       "      <th>4792</th>\n",
       "      <td>1327723314861776898</td>\n",
       "      <td>Firme y feliz por la unión... contra Merino.</td>\n",
       "      <td>NaN</td>\n",
       "      <td>test</td>\n",
       "      <td>[firm, feliz, por, union, __PUNC_ELLP, contr, ...</td>\n",
       "    </tr>\n",
       "    <tr>\n",
       "      <th>2268</th>\n",
       "      <td>1327745516944437249</td>\n",
       "      <td>@merino_monroy @FUERZARMADASV @nayibbukele @Ej...</td>\n",
       "      <td>NaN</td>\n",
       "      <td>test</td>\n",
       "      <td>[__user_MERINO_MONROY, __user_FUERZARMADASV, _...</td>\n",
       "    </tr>\n",
       "    <tr>\n",
       "      <th>2699</th>\n",
       "      <td>1327742029158289409</td>\n",
       "      <td>@Capacapo3 @carolineweisss @BCPGianfranco No t...</td>\n",
       "      <td>NaN</td>\n",
       "      <td>test</td>\n",
       "      <td>[__user_CAPACAPO3, __user_CAROLINEWEISS, __use...</td>\n",
       "    </tr>\n",
       "    <tr>\n",
       "      <th>9046</th>\n",
       "      <td>ID:179537060917547009</td>\n",
       "      <td>Dice q @sorayapsoe es necesario flexibilizar c...</td>\n",
       "      <td>N</td>\n",
       "      <td>train</td>\n",
       "      <td>[dic, __user_SORAYAPSOE, necesari, flexibiliz,...</td>\n",
       "    </tr>\n",
       "  </tbody>\n",
       "</table>\n",
       "</div>"
      ],
      "text/plain": [
       "                    tweetID  \\\n",
       "4792    1327723314861776898   \n",
       "2268    1327745516944437249   \n",
       "2699    1327742029158289409   \n",
       "9046  ID:179537060917547009   \n",
       "\n",
       "                                              tweetText polarity_value    set  \\\n",
       "4792       Firme y feliz por la unión... contra Merino.            NaN   test   \n",
       "2268  @merino_monroy @FUERZARMADASV @nayibbukele @Ej...            NaN   test   \n",
       "2699  @Capacapo3 @carolineweisss @BCPGianfranco No t...            NaN   test   \n",
       "9046  Dice q @sorayapsoe es necesario flexibilizar c...              N  train   \n",
       "\n",
       "                                        processed_tweet  \n",
       "4792  [firm, feliz, por, union, __PUNC_ELLP, contr, ...  \n",
       "2268  [__user_MERINO_MONROY, __user_FUERZARMADASV, _...  \n",
       "2699  [__user_CAPACAPO3, __user_CAROLINEWEISS, __use...  \n",
       "9046  [dic, __user_SORAYAPSOE, necesari, flexibiliz,...  "
      ]
     },
     "execution_count": 26,
     "metadata": {},
     "output_type": "execute_result"
    }
   ],
   "source": [
    "processed_tweets.sample(4)"
   ]
  },
  {
   "cell_type": "markdown",
   "metadata": {},
   "source": [
    "## Funciones"
   ]
  },
  {
   "cell_type": "markdown",
   "metadata": {},
   "source": [
    "### Emoticones"
   ]
  },
  {
   "cell_type": "code",
   "execution_count": 27,
   "metadata": {},
   "outputs": [],
   "source": [
    "emoticons = \\\n",
    "\t[\t# For __EMOT_SMILEY\n",
    "        (' __emoji: U+1F601',\t[':-)', ':)', '(:', '(-:', ] )\t,\\\n",
    "        # for __EMOT_LAUGH\n",
    "\t\t(' __emoji: U+1F923',\t\t[':-D', ':D', 'X-D', 'XD', 'xD', ] )\t,\\\n",
    "        # For __EMOT_LOVE\n",
    "\t\t(' __emoji: U+2764',\t\t['<3', ':\\*', ] )\t,\\\n",
    "        # For __EMOT_WINK\n",
    "\t\t('__emoji: U+1F609',\t\t[';-)', ';)', ';-D', ';D', '(;', '(-;', ] )\t,\\\n",
    "        # For __EMOT_FROWN\n",
    "\t\t(' __emoji: U+2639',\t\t[':-(', ':(', '(:', '(-:', ] )\t,\\\n",
    "        # For __EMOT_CRY\n",
    "\t\t(' __emoji: U+1F622',\t\t[':,(', ':\\'(', ':\"(', ':(('] )\t,\\\n",
    "\t]\n",
    "    \n",
    "def escape_paren(arr):\n",
    "\treturn [text.replace(')', '[)}\\]]').replace('(', '[({\\[]') for text in arr]\n",
    "\n",
    "def regex_union(arr):\n",
    "\treturn '(' + '|'.join( arr ) + ')'\n",
    "\n",
    "emoticons_regex = [ (repl, re.compile(regex_union(escape_paren(regx))) ) for (repl, regx) in emoticons ]"
   ]
  },
  {
   "cell_type": "code",
   "execution_count": 28,
   "metadata": {},
   "outputs": [
    {
     "name": "stdout",
     "output_type": "stream",
     "text": [
      "This is a text with one emoticon   __emoji: U+1F601  and another   __emoji: U+2639 \n"
     ]
    }
   ],
   "source": [
    "# Test\n",
    "text = \"This is a text with one emoticon :) and another :(\"\n",
    "for (repl, regx) in emoticons_regex :\n",
    "    text = re.sub(regx, ' '+repl+' ', text)\n",
    "    \n",
    "print(text)"
   ]
  },
  {
   "cell_type": "code",
   "execution_count": 29,
   "metadata": {},
   "outputs": [
    {
     "data": {
      "text/html": [
       "<div>\n",
       "<style scoped>\n",
       "    .dataframe tbody tr th:only-of-type {\n",
       "        vertical-align: middle;\n",
       "    }\n",
       "\n",
       "    .dataframe tbody tr th {\n",
       "        vertical-align: top;\n",
       "    }\n",
       "\n",
       "    .dataframe thead th {\n",
       "        text-align: right;\n",
       "    }\n",
       "</style>\n",
       "<table border=\"1\" class=\"dataframe\">\n",
       "  <thead>\n",
       "    <tr style=\"text-align: right;\">\n",
       "      <th></th>\n",
       "      <th>emoji_category</th>\n",
       "      <th>number</th>\n",
       "      <th>code</th>\n",
       "      <th>CLDR_Short_Name</th>\n",
       "    </tr>\n",
       "  </thead>\n",
       "  <tbody>\n",
       "    <tr>\n",
       "      <th>0</th>\n",
       "      <td>face-positive</td>\n",
       "      <td>1</td>\n",
       "      <td>U+1F600</td>\n",
       "      <td>grinning face</td>\n",
       "    </tr>\n",
       "    <tr>\n",
       "      <th>1</th>\n",
       "      <td>face-positive</td>\n",
       "      <td>2</td>\n",
       "      <td>U+1F601</td>\n",
       "      <td>beaming face with smiling eyes</td>\n",
       "    </tr>\n",
       "    <tr>\n",
       "      <th>2</th>\n",
       "      <td>face-positive</td>\n",
       "      <td>3</td>\n",
       "      <td>U+1F602</td>\n",
       "      <td>face with tears of joy</td>\n",
       "    </tr>\n",
       "    <tr>\n",
       "      <th>3</th>\n",
       "      <td>face-positive</td>\n",
       "      <td>4</td>\n",
       "      <td>U+1F923</td>\n",
       "      <td>rolling on the floor laughing</td>\n",
       "    </tr>\n",
       "    <tr>\n",
       "      <th>4</th>\n",
       "      <td>face-positive</td>\n",
       "      <td>5</td>\n",
       "      <td>U+1F603</td>\n",
       "      <td>grinning face with big eyes</td>\n",
       "    </tr>\n",
       "  </tbody>\n",
       "</table>\n",
       "</div>"
      ],
      "text/plain": [
       "  emoji_category  number     code                 CLDR_Short_Name\n",
       "0  face-positive       1  U+1F600                   grinning face\n",
       "1  face-positive       2  U+1F601  beaming face with smiling eyes\n",
       "2  face-positive       3  U+1F602          face with tears of joy\n",
       "3  face-positive       4  U+1F923   rolling on the floor laughing\n",
       "4  face-positive       5  U+1F603     grinning face with big eyes"
      ]
     },
     "execution_count": 29,
     "metadata": {},
     "output_type": "execute_result"
    }
   ],
   "source": [
    "emojis_db=pd.read_csv('emojis_db_csv.csv')\n",
    "emojis_db.head()"
   ]
  },
  {
   "cell_type": "code",
   "execution_count": 30,
   "metadata": {},
   "outputs": [],
   "source": [
    "def emojis_unicode(tweet):\n",
    "    ''' Extracts the emojis on the tweet on Unicode format, also tries to match those in regular format, such as \";)\" '''\n",
    "    for (repl, regx) in emoticons_regex :\n",
    "        tweet = re.sub(regx, ' '+repl+' ', tweet)\n",
    "#     print(tweet)\n",
    "\n",
    "    tweet_unicode = str(tweet.encode('unicode-escape'))\n",
    "    tweet_unicode = tweet_unicode.replace('\\\\\\\\U000',' __emoji: U+')\n",
    "#     print(tweet_unicode)\n",
    "    \n",
    "    emoji_list = []\n",
    "#     print(tweet)\n",
    "    for emoji in range(tweet_unicode.count(' __emoji: ')):\n",
    "        em = tweet_unicode.split('__emoji: ')[emoji+1].split()[0]\n",
    "        em = em[:7] # the len of the emoji in unicode is between 6 and 7\n",
    "        emoji_list.append(em.upper())\n",
    "    return emoji_list"
   ]
  },
  {
   "cell_type": "code",
   "execution_count": 31,
   "metadata": {},
   "outputs": [
    {
     "data": {
      "text/plain": [
       "['U+1F621', 'U+1F923', 'U+1F602']"
      ]
     },
     "execution_count": 31,
     "metadata": {},
     "output_type": "execute_result"
    }
   ],
   "source": [
    "# Test\n",
    "text = \"😡🤣😂\"\n",
    "emojis_unicode(text)"
   ]
  },
  {
   "cell_type": "code",
   "execution_count": 32,
   "metadata": {},
   "outputs": [
    {
     "data": {
      "text/plain": [
       "['face-negative', 'face-positive', 'face-positive']"
      ]
     },
     "execution_count": 32,
     "metadata": {},
     "output_type": "execute_result"
    }
   ],
   "source": [
    "def emoji_category(emojis):\n",
    "    categories = []\n",
    "    for i in range(len(emojis)):\n",
    "        # print(emojis[i])\n",
    "        try:\n",
    "            categories.append(emojis_db.loc[emojis_db.code == emojis[i]].emoji_category.values[0])\n",
    "        except:\n",
    "            try:\n",
    "                _ = emojis[i].split('+')[1] + '+'\n",
    "                categories.append(emojis_db[emojis_db.code.str.contains(_)].emoji_category.values[0])\n",
    "            except:\n",
    "                categories.append('other')\n",
    "    if len(categories) < 1:\n",
    "        categories.append('no_emojis')\n",
    "    return categories\n",
    "\n",
    "emoji_category(emojis_unicode(text))"
   ]
  },
  {
   "cell_type": "code",
   "execution_count": 33,
   "metadata": {},
   "outputs": [],
   "source": [
    "\n",
    "# Wrapper function that encloses all the n-grams procedures\n",
    "def get_word_features(words):\n",
    "    bag = {}\n",
    "    words_uni = [ 'has(%s)'% ug for ug in words ]\n",
    "    words_bi  = [ 'has(%s)'% ','.join(map(str,bg)) for bg in nltk.bigrams(words) ]\n",
    "    words_tri = [ 'has(%s)'% ','.join(map(str,tg)) for tg in nltk.trigrams(words) ]\n",
    "    \n",
    "    for f in words_uni+words_bi+words_tri:\n",
    "        bag[f] = 1\n",
    "\n",
    "    return bag"
   ]
  },
  {
   "cell_type": "markdown",
   "metadata": {},
   "source": [
    "### Negacion"
   ]
  },
  {
   "cell_type": "code",
   "execution_count": 34,
   "metadata": {},
   "outputs": [],
   "source": [
    "negtn_regex = re.compile( r\"\"\"(?:\n",
    "    ^(?:nunca|no|nada|ningún|ninguno|ninguna|tampoco|\n",
    "        nunc|nad|ningun|tampoc\n",
    "    )$\n",
    ")\n",
    "|\n",
    "n't\n",
    "\"\"\", re.X)\n",
    "\n",
    "def get_negation_features(words):\n",
    "    INF = 0.0\n",
    "    negtn = [ bool(negtn_regex.search(w)) for w in words ]\n",
    "\n",
    "    left = [0.0] * len(words)\n",
    "    prev = 0.0\n",
    "    for i in range(0,len(words)):\n",
    "        if( negtn[i] ):\n",
    "            prev = 1.0\n",
    "        left[i] = prev\n",
    "        prev = max( 0.0, prev-0.1)\n",
    "\n",
    "    right = [0.0] * len(words)\n",
    "    prev = 0.0\n",
    "    for i in reversed(range(0,len(words))):\n",
    "        if( negtn[i] ):\n",
    "            prev = 1.0\n",
    "        right[i] = prev\n",
    "        prev = max( 0.0, prev-0.1)\n",
    "\n",
    "    return dict( zip(\n",
    "                    ['neg_l('+w+')' for w in  words] + ['neg_r('+w+')' for w in  words],\n",
    "                    left + right ) )"
   ]
  },
  {
   "cell_type": "code",
   "execution_count": 35,
   "metadata": {},
   "outputs": [
    {
     "data": {
      "text/plain": [
       "{'neg_l(Este)': 0.0,\n",
       " 'neg_l(tweet)': 0.0,\n",
       " 'neg_l(no)': 1.0,\n",
       " 'neg_l(es)': 0.9,\n",
       " 'neg_l(positivo)': 0.8,\n",
       " 'neg_r(Este)': 0.8,\n",
       " 'neg_r(tweet)': 0.9,\n",
       " 'neg_r(no)': 1.0,\n",
       " 'neg_r(es)': 0.0,\n",
       " 'neg_r(positivo)': 0.0}"
      ]
     },
     "execution_count": 35,
     "metadata": {},
     "output_type": "execute_result"
    }
   ],
   "source": [
    "# Test\n",
    "text = [\"Este\",\"tweet\", \"no\", \"es\", \"positivo\"]\n",
    "get_negation_features(text)\n"
   ]
  },
  {
   "cell_type": "markdown",
   "metadata": {},
   "source": [
    "### Polarity"
   ]
  },
  {
   "cell_type": "markdown",
   "metadata": {},
   "source": [
    "\n",
    "Intentamos utilizar el léxico del sentimiento en español de http://www.opener-project.eu/ pero no mejoró los resultados en ninguno de los algoritmos. Tal vez por el hecho de que el español de España es diferente al español que se habla en Sudamerica."
   ]
  },
  {
   "cell_type": "code",
   "execution_count": 36,
   "metadata": {},
   "outputs": [
    {
     "data": {
      "text/html": [
       "<div>\n",
       "<style scoped>\n",
       "    .dataframe tbody tr th:only-of-type {\n",
       "        vertical-align: middle;\n",
       "    }\n",
       "\n",
       "    .dataframe tbody tr th {\n",
       "        vertical-align: top;\n",
       "    }\n",
       "\n",
       "    .dataframe thead th {\n",
       "        text-align: right;\n",
       "    }\n",
       "</style>\n",
       "<table border=\"1\" class=\"dataframe\">\n",
       "  <thead>\n",
       "    <tr style=\"text-align: right;\">\n",
       "      <th></th>\n",
       "      <th>x</th>\n",
       "      <th>pos</th>\n",
       "      <th>polarity</th>\n",
       "      <th>xx</th>\n",
       "      <th>word</th>\n",
       "      <th>xxx</th>\n",
       "    </tr>\n",
       "  </thead>\n",
       "  <tbody>\n",
       "    <tr>\n",
       "      <th>0</th>\n",
       "      <td>unknown</td>\n",
       "      <td>n</td>\n",
       "      <td>positive</td>\n",
       "      <td>1.0</td>\n",
       "      <td>felicitación</td>\n",
       "      <td>1</td>\n",
       "    </tr>\n",
       "    <tr>\n",
       "      <th>1</th>\n",
       "      <td>unknown</td>\n",
       "      <td>a</td>\n",
       "      <td>negative</td>\n",
       "      <td>1.0</td>\n",
       "      <td>inconsciente</td>\n",
       "      <td>1</td>\n",
       "    </tr>\n",
       "    <tr>\n",
       "      <th>2</th>\n",
       "      <td>unknown</td>\n",
       "      <td>n</td>\n",
       "      <td>neutral</td>\n",
       "      <td>1.0</td>\n",
       "      <td>soporte</td>\n",
       "      <td>1</td>\n",
       "    </tr>\n",
       "    <tr>\n",
       "      <th>3</th>\n",
       "      <td>unknown</td>\n",
       "      <td>n</td>\n",
       "      <td>neutral</td>\n",
       "      <td>1.0</td>\n",
       "      <td>proceso_matemático</td>\n",
       "      <td>1</td>\n",
       "    </tr>\n",
       "    <tr>\n",
       "      <th>4</th>\n",
       "      <td>unknown</td>\n",
       "      <td>v</td>\n",
       "      <td>positive</td>\n",
       "      <td>1.0</td>\n",
       "      <td>manifestar</td>\n",
       "      <td>1</td>\n",
       "    </tr>\n",
       "  </tbody>\n",
       "</table>\n",
       "</div>"
      ],
      "text/plain": [
       "         x pos  polarity   xx                word  xxx\n",
       "0  unknown   n  positive  1.0        felicitación    1\n",
       "1  unknown   a  negative  1.0        inconsciente    1\n",
       "2  unknown   n   neutral  1.0             soporte    1\n",
       "3  unknown   n   neutral  1.0  proceso_matemático    1\n",
       "4  unknown   v  positive  1.0          manifestar    1"
      ]
     },
     "execution_count": 36,
     "metadata": {},
     "output_type": "execute_result"
    }
   ],
   "source": [
    "opener_lexicon = pd.read_csv('https://raw.githubusercontent.com/opener-project/public-sentiment-lexicons/master/propagation_lexicons/es/es.lemma.sy.an.hypo.rels.maxdepth5.seed500.maj.gold.csv', sep=';', header=None)\n",
    "opener_lexicon.columns = ['x','pos', 'polarity', 'xx','word','xxx']\n",
    "opener_lexicon.head()"
   ]
  },
  {
   "cell_type": "code",
   "execution_count": 37,
   "metadata": {},
   "outputs": [],
   "source": [
    "def get_sent(polarity):\n",
    "    if polarity == 'neutral':\n",
    "        return 0\n",
    "    if polarity == 'negative':\n",
    "        return -1\n",
    "    if polarity == 'positive':\n",
    "        return 1\n",
    "opener_lexicon['sentiment'] = opener_lexicon.polarity.apply(get_sent)"
   ]
  },
  {
   "cell_type": "code",
   "execution_count": 38,
   "metadata": {},
   "outputs": [
    {
     "data": {
      "text/html": [
       "<div>\n",
       "<style scoped>\n",
       "    .dataframe tbody tr th:only-of-type {\n",
       "        vertical-align: middle;\n",
       "    }\n",
       "\n",
       "    .dataframe tbody tr th {\n",
       "        vertical-align: top;\n",
       "    }\n",
       "\n",
       "    .dataframe thead th {\n",
       "        text-align: right;\n",
       "    }\n",
       "</style>\n",
       "<table border=\"1\" class=\"dataframe\">\n",
       "  <thead>\n",
       "    <tr style=\"text-align: right;\">\n",
       "      <th></th>\n",
       "      <th>word</th>\n",
       "      <th>stmd_word</th>\n",
       "      <th>sentiment</th>\n",
       "    </tr>\n",
       "  </thead>\n",
       "  <tbody>\n",
       "    <tr>\n",
       "      <th>13143</th>\n",
       "      <td>eficiente</td>\n",
       "      <td>eficient</td>\n",
       "      <td>1.0</td>\n",
       "    </tr>\n",
       "    <tr>\n",
       "      <th>766</th>\n",
       "      <td>despierto</td>\n",
       "      <td>despiert</td>\n",
       "      <td>1.0</td>\n",
       "    </tr>\n",
       "    <tr>\n",
       "      <th>13648</th>\n",
       "      <td>angustioso</td>\n",
       "      <td>angusti</td>\n",
       "      <td>-1.0</td>\n",
       "    </tr>\n",
       "    <tr>\n",
       "      <th>8903</th>\n",
       "      <td>familiarizar</td>\n",
       "      <td>familiariz</td>\n",
       "      <td>1.0</td>\n",
       "    </tr>\n",
       "  </tbody>\n",
       "</table>\n",
       "</div>"
      ],
      "text/plain": [
       "               word   stmd_word  sentiment\n",
       "13143     eficiente    eficient        1.0\n",
       "766       despierto    despiert        1.0\n",
       "13648    angustioso     angusti       -1.0\n",
       "8903   familiarizar  familiariz        1.0"
      ]
     },
     "execution_count": 38,
     "metadata": {},
     "output_type": "execute_result"
    }
   ],
   "source": [
    "opener_lexicon['stmd_word'] = opener_lexicon['word'].apply(sb_stem)\n",
    "opener_lexicon['stmd_word'] = opener_lexicon.stmd_word.apply(lambda x: str(x).replace('[','').replace(']','').replace(\"'\",''))\n",
    "opener_lexicon = opener_lexicon[['word','stmd_word','sentiment']]\n",
    "opener_lexicon = opener_lexicon.loc[opener_lexicon.sentiment != 0]\n",
    "opener_lexicon = opener_lexicon.drop_duplicates()\n",
    "opener_lexicon.sample(4)"
   ]
  },
  {
   "cell_type": "code",
   "execution_count": 39,
   "metadata": {},
   "outputs": [
    {
     "name": "stdout",
     "output_type": "stream",
     "text": [
      "Tweet  MERINO Y SU GENTE UNA MIERDA TOTAL #PeruvianLivesMatter  #MerinoJamasSeraMiPresidente  #MerinoCTM\n",
      "Would have the following words and sentiments associated:\n",
      "{'sent(total)': 1.0}\n"
     ]
    }
   ],
   "source": [
    "def get_polarity_features(text):\n",
    "    pol = {}\n",
    "    text = sb_stem(text)\n",
    "    for word in text:\n",
    "        try:\n",
    "            pol[\"sent(\"+word+\")\"] = opener_lexicon.loc[opener_lexicon.stmd_word == word].sentiment.values[0]\n",
    "        except:\n",
    "            continue\n",
    "            \n",
    "    return pol\n",
    "\n",
    "_ = processed_tweets.tweetText[1503]\n",
    "print('Tweet ',_)\n",
    "print('Would have the following words and sentiments associated:')\n",
    "print(get_polarity_features(_))"
   ]
  },
  {
   "cell_type": "markdown",
   "metadata": {},
   "source": [
    "# Aplicando los features"
   ]
  },
  {
   "cell_type": "code",
   "execution_count": 40,
   "metadata": {},
   "outputs": [],
   "source": [
    "#Función  para la extracción de características\n",
    "def extract_features(text):\n",
    "    global usr_names, hstgs\n",
    "    features = {}\n",
    "    words = text\n",
    "    words = processAll(text)\n",
    "\n",
    "    word_features = get_word_features(words)\n",
    "    features.update( word_features )\n",
    "\n",
    "    negation_features = get_negation_features(words)\n",
    "    features.update( negation_features )\n",
    "\n",
    "    emoji_features = emoji_category(emojis_unicode(text))\n",
    "    emoji_features_dic = dict( zip(['emoji_('+w+')' for w in  emoji_features], emoji_features))\n",
    "    features.update( emoji_features_dic )\n",
    "    \n",
    "    usr_names = list(set(usr_names))\n",
    "    hstgs = list(set(hstgs))\n",
    "    return features"
   ]
  },
  {
   "cell_type": "code",
   "execution_count": 41,
   "metadata": {},
   "outputs": [],
   "source": [
    "processed_tweets['processed_tweet_features'] = processed_tweets.tweetText.apply(extract_features)"
   ]
  },
  {
   "cell_type": "code",
   "execution_count": 42,
   "metadata": {},
   "outputs": [
    {
     "data": {
      "text/plain": [
       "{'has(__user_RPPNOTICIAS)': 1,\n",
       " 'has(corrij)': 1,\n",
       " 'has(gobiern)': 1,\n",
       " 'has(fact)': 1,\n",
       " 'has(merin)': 1,\n",
       " 'has(usurp)': 1,\n",
       " 'has(__user_RPPNOTICIAS,corrij)': 1,\n",
       " 'has(corrij,__user_RPPNOTICIAS)': 1,\n",
       " 'has(__user_RPPNOTICIAS,gobiern)': 1,\n",
       " 'has(gobiern,fact)': 1,\n",
       " 'has(fact,merin)': 1,\n",
       " 'has(merin,usurp)': 1,\n",
       " 'has(__user_RPPNOTICIAS,corrij,__user_RPPNOTICIAS)': 1,\n",
       " 'has(corrij,__user_RPPNOTICIAS,gobiern)': 1,\n",
       " 'has(__user_RPPNOTICIAS,gobiern,fact)': 1,\n",
       " 'has(gobiern,fact,merin)': 1,\n",
       " 'has(fact,merin,usurp)': 1,\n",
       " 'neg_l(__user_RPPNOTICIAS)': 0.0,\n",
       " 'neg_l(corrij)': 0.0,\n",
       " 'neg_l(gobiern)': 0.0,\n",
       " 'neg_l(fact)': 0.0,\n",
       " 'neg_l(merin)': 0.0,\n",
       " 'neg_l(usurp)': 0.0,\n",
       " 'neg_r(__user_RPPNOTICIAS)': 0.0,\n",
       " 'neg_r(corrij)': 0.0,\n",
       " 'neg_r(gobiern)': 0.0,\n",
       " 'neg_r(fact)': 0.0,\n",
       " 'neg_r(merin)': 0.0,\n",
       " 'neg_r(usurp)': 0.0,\n",
       " 'emoji_(no_emojis)': 'no_emojis'}"
      ]
     },
     "execution_count": 42,
     "metadata": {},
     "output_type": "execute_result"
    }
   ],
   "source": [
    "processed_tweets.processed_tweet_features[150]"
   ]
  },
  {
   "cell_type": "code",
   "execution_count": 43,
   "metadata": {},
   "outputs": [
    {
     "data": {
      "text/html": [
       "<div>\n",
       "<style scoped>\n",
       "    .dataframe tbody tr th:only-of-type {\n",
       "        vertical-align: middle;\n",
       "    }\n",
       "\n",
       "    .dataframe tbody tr th {\n",
       "        vertical-align: top;\n",
       "    }\n",
       "\n",
       "    .dataframe thead th {\n",
       "        text-align: right;\n",
       "    }\n",
       "</style>\n",
       "<table border=\"1\" class=\"dataframe\">\n",
       "  <thead>\n",
       "    <tr style=\"text-align: right;\">\n",
       "      <th></th>\n",
       "      <th>tweetID</th>\n",
       "      <th>tweetText</th>\n",
       "      <th>polarity_value</th>\n",
       "      <th>set</th>\n",
       "      <th>processed_tweet</th>\n",
       "      <th>processed_tweet_features</th>\n",
       "    </tr>\n",
       "  </thead>\n",
       "  <tbody>\n",
       "    <tr>\n",
       "      <th>3614</th>\n",
       "      <td>1327733879432761350</td>\n",
       "      <td>Peruanos en Madrid, España, también presentes ...</td>\n",
       "      <td>NaN</td>\n",
       "      <td>test</td>\n",
       "      <td>[peruan, madr, españ, tambien, present, protes...</td>\n",
       "      <td>{'has(peruan)': 1, 'has(madr)': 1, 'has(españ)...</td>\n",
       "    </tr>\n",
       "    <tr>\n",
       "      <th>3234</th>\n",
       "      <td>1327737158753542149</td>\n",
       "      <td>@rocio_soldado @revolucytierra @Lineaunope @AT...</td>\n",
       "      <td>NaN</td>\n",
       "      <td>test</td>\n",
       "      <td>[__user_ROCIO_SOLDADO, __user_REVOLUCYTIERRA, ...</td>\n",
       "      <td>{'has(__user_ROCIO_SOLDADO)': 1, 'has(__user_R...</td>\n",
       "    </tr>\n",
       "    <tr>\n",
       "      <th>855</th>\n",
       "      <td>1327756538983886854</td>\n",
       "      <td>@alexmborrovic @JaimeChincha @IPAEPERU No lo h...</td>\n",
       "      <td>NaN</td>\n",
       "      <td>test</td>\n",
       "      <td>[__user_ALEXMBORROVIC, __user_JAIMECHINCHA, __...</td>\n",
       "      <td>{'has(__user_ALEXMBORROVIC)': 1, 'has(__user_J...</td>\n",
       "    </tr>\n",
       "    <tr>\n",
       "      <th>8686</th>\n",
       "      <td>ID:176931485197139968</td>\n",
       "      <td>«La Costa del Sol tiene una oferta renovada co...</td>\n",
       "      <td>P</td>\n",
       "      <td>train</td>\n",
       "      <td>[cost, del, sol, tien, una, ofert, renov, con,...</td>\n",
       "      <td>{'has(cost)': 1, 'has(del)': 1, 'has(sol)': 1,...</td>\n",
       "    </tr>\n",
       "  </tbody>\n",
       "</table>\n",
       "</div>"
      ],
      "text/plain": [
       "                    tweetID  \\\n",
       "3614    1327733879432761350   \n",
       "3234    1327737158753542149   \n",
       "855     1327756538983886854   \n",
       "8686  ID:176931485197139968   \n",
       "\n",
       "                                              tweetText polarity_value    set  \\\n",
       "3614  Peruanos en Madrid, España, también presentes ...            NaN   test   \n",
       "3234  @rocio_soldado @revolucytierra @Lineaunope @AT...            NaN   test   \n",
       "855   @alexmborrovic @JaimeChincha @IPAEPERU No lo h...            NaN   test   \n",
       "8686  «La Costa del Sol tiene una oferta renovada co...              P  train   \n",
       "\n",
       "                                        processed_tweet  \\\n",
       "3614  [peruan, madr, españ, tambien, present, protes...   \n",
       "3234  [__user_ROCIO_SOLDADO, __user_REVOLUCYTIERRA, ...   \n",
       "855   [__user_ALEXMBORROVIC, __user_JAIMECHINCHA, __...   \n",
       "8686  [cost, del, sol, tien, una, ofert, renov, con,...   \n",
       "\n",
       "                               processed_tweet_features  \n",
       "3614  {'has(peruan)': 1, 'has(madr)': 1, 'has(españ)...  \n",
       "3234  {'has(__user_ROCIO_SOLDADO)': 1, 'has(__user_R...  \n",
       "855   {'has(__user_ALEXMBORROVIC)': 1, 'has(__user_J...  \n",
       "8686  {'has(cost)': 1, 'has(del)': 1, 'has(sol)': 1,...  "
      ]
     },
     "execution_count": 43,
     "metadata": {},
     "output_type": "execute_result"
    }
   ],
   "source": [
    "processed_tweets.sample(4)"
   ]
  },
  {
   "cell_type": "code",
   "execution_count": null,
   "metadata": {},
   "outputs": [],
   "source": []
  },
  {
   "cell_type": "markdown",
   "metadata": {},
   "source": [
    "# Clasificacion - Analisis"
   ]
  },
  {
   "cell_type": "code",
   "execution_count": 44,
   "metadata": {},
   "outputs": [],
   "source": [
    "train_ = processed_tweets.loc[processed_tweets.set == 'train']\n",
    "test_ = processed_tweets.loc[processed_tweets.set == 'test']"
   ]
  },
  {
   "cell_type": "code",
   "execution_count": 45,
   "metadata": {},
   "outputs": [
    {
     "data": {
      "text/html": [
       "<div>\n",
       "<style scoped>\n",
       "    .dataframe tbody tr th:only-of-type {\n",
       "        vertical-align: middle;\n",
       "    }\n",
       "\n",
       "    .dataframe tbody tr th {\n",
       "        vertical-align: top;\n",
       "    }\n",
       "\n",
       "    .dataframe thead th {\n",
       "        text-align: right;\n",
       "    }\n",
       "</style>\n",
       "<table border=\"1\" class=\"dataframe\">\n",
       "  <thead>\n",
       "    <tr style=\"text-align: right;\">\n",
       "      <th></th>\n",
       "      <th>tweetID</th>\n",
       "      <th>tweetText</th>\n",
       "      <th>polarity_value</th>\n",
       "      <th>set</th>\n",
       "      <th>processed_tweet</th>\n",
       "      <th>processed_tweet_features</th>\n",
       "    </tr>\n",
       "  </thead>\n",
       "  <tbody>\n",
       "    <tr>\n",
       "      <th>0</th>\n",
       "      <td>1327763218069123072</td>\n",
       "      <td>URGENTE. Colegio Médico del Perú anuncia su re...</td>\n",
       "      <td>NaN</td>\n",
       "      <td>test</td>\n",
       "      <td>[urgent, colegi, medic, del, peru, anunci, ret...</td>\n",
       "      <td>{'has(urgent)': 1, 'has(colegi)': 1, 'has(medi...</td>\n",
       "    </tr>\n",
       "    <tr>\n",
       "      <th>1</th>\n",
       "      <td>1327763216240357379</td>\n",
       "      <td>@RPPNoticias La PROTESTA debe ser contra Merin...</td>\n",
       "      <td>NaN</td>\n",
       "      <td>test</td>\n",
       "      <td>[__user_RPPNOTICIAS, protest, deb, ser, contr,...</td>\n",
       "      <td>{'has(__user_RPPNOTICIAS)': 1, 'has(protest)':...</td>\n",
       "    </tr>\n",
       "    <tr>\n",
       "      <th>2</th>\n",
       "      <td>1327763209428799488</td>\n",
       "      <td>@_Lassana_ La peña respondiendo este twitt que...</td>\n",
       "      <td>NaN</td>\n",
       "      <td>test</td>\n",
       "      <td>[__user__LASSANA_, peñ, respond, este, twitt, ...</td>\n",
       "      <td>{'has(__user__LASSANA_)': 1, 'has(peñ)': 1, 'h...</td>\n",
       "    </tr>\n",
       "    <tr>\n",
       "      <th>3</th>\n",
       "      <td>1327763207793020928</td>\n",
       "      <td>@MariellaPatriau Y quien sera que esta apoyand...</td>\n",
       "      <td>NaN</td>\n",
       "      <td>test</td>\n",
       "      <td>[__user_MARIELLAPATRIAU, qui, ser, que, esta, ...</td>\n",
       "      <td>{'has(__user_MARIELLAPATRIAU)': 1, 'has(qui)':...</td>\n",
       "    </tr>\n",
       "    <tr>\n",
       "      <th>4</th>\n",
       "      <td>1327763205247168512</td>\n",
       "      <td>@JK_aus @JK_Peru Porfavor den una ayudita a  p...</td>\n",
       "      <td>NaN</td>\n",
       "      <td>test</td>\n",
       "      <td>[__user_JK_AUS, __user_JK_PERU, porfavor, den,...</td>\n",
       "      <td>{'has(__user_JK_AUS)': 1, 'has(__user_JK_PERU)...</td>\n",
       "    </tr>\n",
       "  </tbody>\n",
       "</table>\n",
       "</div>"
      ],
      "text/plain": [
       "               tweetID                                          tweetText  \\\n",
       "0  1327763218069123072  URGENTE. Colegio Médico del Perú anuncia su re...   \n",
       "1  1327763216240357379  @RPPNoticias La PROTESTA debe ser contra Merin...   \n",
       "2  1327763209428799488  @_Lassana_ La peña respondiendo este twitt que...   \n",
       "3  1327763207793020928  @MariellaPatriau Y quien sera que esta apoyand...   \n",
       "4  1327763205247168512  @JK_aus @JK_Peru Porfavor den una ayudita a  p...   \n",
       "\n",
       "  polarity_value   set                                    processed_tweet  \\\n",
       "0            NaN  test  [urgent, colegi, medic, del, peru, anunci, ret...   \n",
       "1            NaN  test  [__user_RPPNOTICIAS, protest, deb, ser, contr,...   \n",
       "2            NaN  test  [__user__LASSANA_, peñ, respond, este, twitt, ...   \n",
       "3            NaN  test  [__user_MARIELLAPATRIAU, qui, ser, que, esta, ...   \n",
       "4            NaN  test  [__user_JK_AUS, __user_JK_PERU, porfavor, den,...   \n",
       "\n",
       "                            processed_tweet_features  \n",
       "0  {'has(urgent)': 1, 'has(colegi)': 1, 'has(medi...  \n",
       "1  {'has(__user_RPPNOTICIAS)': 1, 'has(protest)':...  \n",
       "2  {'has(__user__LASSANA_)': 1, 'has(peñ)': 1, 'h...  \n",
       "3  {'has(__user_MARIELLAPATRIAU)': 1, 'has(qui)':...  \n",
       "4  {'has(__user_JK_AUS)': 1, 'has(__user_JK_PERU)...  "
      ]
     },
     "execution_count": 45,
     "metadata": {},
     "output_type": "execute_result"
    }
   ],
   "source": [
    "test_.head()"
   ]
  },
  {
   "cell_type": "code",
   "execution_count": 46,
   "metadata": {},
   "outputs": [],
   "source": [
    "train_size = int(train_.shape[0]*0.8)\n",
    "sentiment_train_tweets = [(tweet, sentiment) for tweet, sentiment in train_[['tweetText', 'polarity_value']].values[:train_size]]\n",
    "sentiment_train_tweets_full = [(tweet, sentiment) for tweet, sentiment in train_[['tweetText', 'polarity_value']].values]\n",
    "sentiment_validation_tweets = [(tweet, sentiment) for tweet, sentiment in train_[['tweetText', 'polarity_value']].values[train_size:]]\n",
    "sentiment_test_tweets  = [(tweet, sentiment) for tweet, sentiment in test_[['tweetText', 'polarity_value']].values]"
   ]
  },
  {
   "cell_type": "markdown",
   "metadata": {},
   "source": [
    "# Preparacion de la data\n",
    "\n"
   ]
  },
  {
   "cell_type": "code",
   "execution_count": 47,
   "metadata": {},
   "outputs": [],
   "source": [
    "# Apply the data processing and cleaning extraction methodologies\n",
    "v_train = nltk.classify.apply_features(extract_features,sentiment_train_tweets)\n",
    "v_train_full = nltk.classify.apply_features(extract_features,sentiment_train_tweets_full)\n",
    "v_validation = nltk.classify.apply_features(extract_features,sentiment_validation_tweets)\n",
    "v_test  = nltk.classify.apply_features(extract_features,sentiment_test_tweets)"
   ]
  },
  {
   "cell_type": "code",
   "execution_count": 48,
   "metadata": {},
   "outputs": [
    {
     "name": "stdout",
     "output_type": "stream",
     "text": [
      "For the tweet =  “@adri_22_22: #programascambiados es TT gracias a @Carlos_Latre” GRACIAS POR EL BUEN RATO AMIGOS!!;)\n",
      " \n",
      "The following features has been created:\n",
      " \n",
      "{'has(__user_MARODRIGUEZB)': 1, 'has(graci)': 1, 'has(mar)': 1, 'has(__user_MARODRIGUEZB,graci)': 1, 'has(graci,mar)': 1, 'has(__user_MARODRIGUEZB,graci,mar)': 1, 'neg_l(__user_MARODRIGUEZB)': 0.0, 'neg_l(graci)': 0.0, 'neg_l(mar)': 0.0, 'neg_r(__user_MARODRIGUEZB)': 0.0, 'neg_r(graci)': 0.0, 'neg_r(mar)': 0.0, 'emoji_(no_emojis)': 'no_emojis'}\n"
     ]
    }
   ],
   "source": [
    "print (\"For the tweet = \", train_.tweetText.values[10] )\n",
    "print (\" \")\n",
    "print (\"The following features has been created:\")\n",
    "print (\" \")\n",
    "print (v_train[0][0])"
   ]
  },
  {
   "cell_type": "markdown",
   "metadata": {},
   "source": [
    "## Naive Bayes "
   ]
  },
  {
   "cell_type": "code",
   "execution_count": 49,
   "metadata": {},
   "outputs": [
    {
     "name": "stdout",
     "output_type": "stream",
     "text": [
      "Accuracy del modelo =  0.8047337278106509\n"
     ]
    }
   ],
   "source": [
    "nb_classifier = nltk.classify.NaiveBayesClassifier\n",
    "nb_class = nb_classifier.train(v_train)\n",
    "print (\"Accuracy del modelo = \", nltk.classify.accuracy(nb_class, v_validation))"
   ]
  },
  {
   "cell_type": "code",
   "execution_count": 50,
   "metadata": {},
   "outputs": [],
   "source": [
    "nb_class = nb_classifier.train(v_train_full) \n",
    "test_predict = [nb_class.classify(t) for (t,s) in v_test]"
   ]
  },
  {
   "cell_type": "code",
   "execution_count": 51,
   "metadata": {},
   "outputs": [],
   "source": [
    "NB_results = pd.DataFrame({'tweet': sentiment_test_tweets,'sentiment':test_predict})"
   ]
  },
  {
   "cell_type": "code",
   "execution_count": 52,
   "metadata": {},
   "outputs": [
    {
     "data": {
      "text/html": [
       "<div>\n",
       "<style scoped>\n",
       "    .dataframe tbody tr th:only-of-type {\n",
       "        vertical-align: middle;\n",
       "    }\n",
       "\n",
       "    .dataframe tbody tr th {\n",
       "        vertical-align: top;\n",
       "    }\n",
       "\n",
       "    .dataframe thead th {\n",
       "        text-align: right;\n",
       "    }\n",
       "</style>\n",
       "<table border=\"1\" class=\"dataframe\">\n",
       "  <thead>\n",
       "    <tr style=\"text-align: right;\">\n",
       "      <th></th>\n",
       "      <th>tweet</th>\n",
       "      <th>sentiment</th>\n",
       "    </tr>\n",
       "  </thead>\n",
       "  <tbody>\n",
       "    <tr>\n",
       "      <th>0</th>\n",
       "      <td>(URGENTE. Colegio Médico del Perú anuncia su r...</td>\n",
       "      <td>N</td>\n",
       "    </tr>\n",
       "    <tr>\n",
       "      <th>1</th>\n",
       "      <td>(@RPPNoticias La PROTESTA debe ser contra Meri...</td>\n",
       "      <td>N</td>\n",
       "    </tr>\n",
       "    <tr>\n",
       "      <th>2</th>\n",
       "      <td>(@_Lassana_ La peña respondiendo este twitt qu...</td>\n",
       "      <td>N</td>\n",
       "    </tr>\n",
       "    <tr>\n",
       "      <th>3</th>\n",
       "      <td>(@MariellaPatriau Y quien sera que esta apoyan...</td>\n",
       "      <td>N</td>\n",
       "    </tr>\n",
       "    <tr>\n",
       "      <th>4</th>\n",
       "      <td>(@JK_aus @JK_Peru Porfavor den una ayudita a  ...</td>\n",
       "      <td>N</td>\n",
       "    </tr>\n",
       "    <tr>\n",
       "      <th>...</th>\n",
       "      <td>...</td>\n",
       "      <td>...</td>\n",
       "    </tr>\n",
       "    <tr>\n",
       "      <th>4995</th>\n",
       "      <td>(@atvpe Merino 🤮, nan)</td>\n",
       "      <td>N</td>\n",
       "    </tr>\n",
       "    <tr>\n",
       "      <th>4996</th>\n",
       "      <td>(@LindaOr90 @MerinoDeLama Merino no llegarás a...</td>\n",
       "      <td>N</td>\n",
       "    </tr>\n",
       "    <tr>\n",
       "      <th>4997</th>\n",
       "      <td>(@Politica_LR @larepublica_pe Lamentable final...</td>\n",
       "      <td>N</td>\n",
       "    </tr>\n",
       "    <tr>\n",
       "      <th>4998</th>\n",
       "      <td>(@merino_monroy @nayibbukele @Ejercito_GT @Def...</td>\n",
       "      <td>P</td>\n",
       "    </tr>\n",
       "    <tr>\n",
       "      <th>4999</th>\n",
       "      <td>(@canalN_ Muchos peruanos nos quedamos en casa...</td>\n",
       "      <td>N</td>\n",
       "    </tr>\n",
       "  </tbody>\n",
       "</table>\n",
       "<p>5000 rows × 2 columns</p>\n",
       "</div>"
      ],
      "text/plain": [
       "                                                  tweet sentiment\n",
       "0     (URGENTE. Colegio Médico del Perú anuncia su r...         N\n",
       "1     (@RPPNoticias La PROTESTA debe ser contra Meri...         N\n",
       "2     (@_Lassana_ La peña respondiendo este twitt qu...         N\n",
       "3     (@MariellaPatriau Y quien sera que esta apoyan...         N\n",
       "4     (@JK_aus @JK_Peru Porfavor den una ayudita a  ...         N\n",
       "...                                                 ...       ...\n",
       "4995                             (@atvpe Merino 🤮, nan)         N\n",
       "4996  (@LindaOr90 @MerinoDeLama Merino no llegarás a...         N\n",
       "4997  (@Politica_LR @larepublica_pe Lamentable final...         N\n",
       "4998  (@merino_monroy @nayibbukele @Ejercito_GT @Def...         P\n",
       "4999  (@canalN_ Muchos peruanos nos quedamos en casa...         N\n",
       "\n",
       "[5000 rows x 2 columns]"
      ]
     },
     "execution_count": 52,
     "metadata": {},
     "output_type": "execute_result"
    }
   ],
   "source": [
    "NB_results "
   ]
  },
  {
   "cell_type": "markdown",
   "metadata": {},
   "source": [
    "### Tweets positivos"
   ]
  },
  {
   "cell_type": "code",
   "execution_count": 53,
   "metadata": {},
   "outputs": [
    {
     "name": "stdout",
     "output_type": "stream",
     "text": [
      "('@_Lassana_ Remiro Navas Pau Ramos Regui Rodri Merino Canales/Ferrán Thiago Oyarzabal Alcacer', nan)\n",
      "('Gracias, Sr Merino. Gracias, Antáurtero Flores Aráoz. Hasta hace una semana mi país estaba polarizado. Hoy, nos hemos hermanado: el CEO de @BCPComunica le da RT a @contracultural (a) Jeremias Hippie. Gracias por esa ilusión. Espero que se mantenga aún después de su pronta partida  https://t.co/B2UxU5cKb2', nan)\n",
      "(\"But others like Merino or Olmo (one invisible, the other so fruitless). That's Spain nowadays though. Lots of places up for grabs, but lots of decent players unable to make a spot in the XI theirs. No top players anymore. The only one missing penalties for the lols.\", nan)\n",
      "('@Boborodada Prosopopéyicos', nan)\n",
      "('バーサーカーすぎる  https://t.co/xur9XzWiC7', nan)\n",
      "('@merino_monroy @FUERZARMADASV @nayibbukele @Ejercito_GT WOW Mtro. @merino_monroy feliciteme a esos pilotos por excelente trabajo humanitario, recuerde que el 98% esta con ud, y con Nayib.', nan)\n",
      "('🇪🇸 Mi XI: Asenjo Navas-(Eric/Íñigo)-Pau-Gayà Canales-Thiago-Koke-Merino Gerard(Oyarzabal)-Morata  ▪️Visto lo visto, Thiago se hace imprescindible en este equipo. Alcácer y Jordi Alba deben volver.  ▪️Fabián y Reguilón no están para ser titulares. Dani Olmo ahí ahí.', nan)\n",
      "('@tromepe ESTAMOS CONTIGO PRESIDENTE MERINO.', nan)\n",
      "('@SecPrensaSV @nayibbukele Manden de estas cajas solidarias a Alta Vista @nayibbukele @merino_monroy @anlikerinfante @nunezedwin @RomeoHerrera1 @FranAlabi @ECastroES @XZablah   https://t.co/UWkRQs9m6d  #PaquetesAlimentarios  #AyudaALaPuertaDeTuCasa', nan)\n",
      "('#Abrucena', nan)\n",
      "('MERINO. AMA SUA, AMA QUELLA, AMA LLULLA.', nan)\n",
      "('Merino y Ántero viendo como se desarrolla la segunda marcha.  https://t.co/kKwMi4vLDT', nan)\n",
      "('@alfredoperezgub Entonces estás de pie por Merino! Muy bien Alfredo, tu si eres inteligente !', nan)\n",
      "('@acuariana_25 Chupame la pinga...gaaaaaaaaaa...  No tú..Merino me refiero🤣', nan)\n",
      "('Muchos me he visto, su nivel en la Real muy bueno, en la seleccion...merino okey pero oyarzabal jajajaja', nan)\n",
      "('¡Viva la nueva Generación! ¡Estamos haciendo historia! ¡Hasta que caiga Merino y sus ratas! #MerinoNoNosRepresenta  #TomaLaCalle #CongresoGolpista #golpedeEstado #MerinoNoEsMiPresidente  #TodosLosDiasHastaQueCaigas  #MarchaNacional #14Nov', nan)\n",
      "('@MerinoDeLama SIGA ADELANTE SEÑOR MERINO, TENGA MUCHA FUERZA Y FIRMEZA PARA SACAR ADELANTE LA GESTIÓN.. VAMOS!', nan)\n",
      "('@RecuerdosPeru @MerinoDeLama @AFloresAraoz Aquí está Manuel Figueredo Merino! 🤣🤣🤣  https://t.co/OEeT6G5nyA', nan)\n",
      "('... Beatriz Merino  ... \"Hay que ser productivo en la vida para que tus padres te vean con orgullo\" ... o te sucederá como cierto político de poca monta  ...  https://t.co/YF1LhWeU1k', nan)\n",
      "('IMPORTANTE: Hasta ahora, contamos con estas opciones como consigna: 1) Por una Asamblea Popular Constituyente 2) Ni Vizcarra Ni Merino 3) No a SUNEDU, sino luchar por una educación de calidad 4) Gobierno de transición sin Merino y sin Vizcarra', nan)\n",
      "('@SecPrensaSV Bien, estas cajas solidarias traen más producto @nayibbukele @merino_monroy @anlikerinfante @nunezedwin @RomeoHerrera1 @FranAlabi @ECastroES @XZablah   https://t.co/Pv9oA3QXYX  #PaquetesAlimentarios  #AyudaALaPuertaDeTuCasa', nan)\n",
      "('Miraflores: manifestantes se reúnen en parque Kennedy para iniciar marcha nacional contra Merino Un gran grupo de manifestantes llegó esta tarde al parque Kennedy, ubicado en el distrito de Miraflores, para dar inicio a la segunda marcha ...  https://t.co/6X3NmQiSbO #PerúNoticias  https://t.co/00edDHf1as', nan)\n",
      "('@juanjosse @merino_monroy @nayibbukele @FUERZARMADASV @Ejercito_GT No me identifico contigo', nan)\n",
      "('Luis Enrique #L6Nenguardia Suiza #UnidosPorElBlackFriday Unai Simón #TopGamers14NOW #SobresaltandoBaluarte Dani Olmo Reguilon Oyarzabal La Gomera Fabián #SUIESP Selección Lugo De Gea Margarita Robles Mikel Merino Freuler Ferran Torres Girona  https://t.co/k3cw9H7Iyq', nan)\n",
      "('@pcmperu Excelente, estamos con Merino y el premier Flores Aráoz 👍👍👍👍  https://t.co/1VRsC7Blgz', nan)\n",
      "('@LaSingingLatinx A Beto se le encogieron las boloñas!!!... pidió a su papi Merino lo proteja!!!...a todos los golpistas se le vino la NOCHE!!!  @ocram', nan)\n",
      "('Los pobladores de San Isidro también apoyan la salida de Merino 💪  #MerinoJamasSeraMiPresidente  https://t.co/1O8Tz0lnX8', nan)\n",
      "('Mal partido de @SeFutbol. Sin ideas. Cuando sale un nueve puro mejora muchísimo. Muy mal hoy el planteamiento de Luis Enrique. Jugadores señalados: Busquets, Merino, Roberto. Valiente Ramos tirar el 2o penalti, pero tirarlo así... @AForcelledo', nan)\n",
      "('@_Lassana_ De gea Navas ramos Pau gaya Thiago rodri canales/merino ferran morata  ansu', nan)\n",
      "('@TC_Peru Defiendan el estado de derecho señores, el Presidente Merino fue  elegido de acuerdo con nuestra Constitución. Gracias!!!!', nan)\n",
      "('O estamos juntos o nos cogen de nuevo.  Merino, la concha de tu madre Flores Araoz, la concha de tu madre Congreso, la concha de tu madre Policía, la concha de tu madre Ternas, la concha de tu madre Clase Política, la concha de sus madres  https://t.co/vRAZ3MtSdM', nan)\n",
      "('Leelo Merino!  https://t.co/UQCKyj1ces', nan)\n",
      "('@IsmaelBarrueta1 @MinervaCuevas4 @nayibbukele @merino_monroy @nunezedwin @RomeoHerrera1 @Anlikerinfante @FranAlabi @ECastroES @XZablah Si, las cajas son muy buenas! No dejen de mandarlas. @nayibbukele @merino_monroy @nunezedwin @RomeoHerrera1 @Anlikerinfante @FranAlabi @ECastroES @XZablah  #PaquetesAlimentarios  #AyudaALaPuertaDeTuCasa', nan)\n",
      "('@merino_monroy @FUERZARMADASV @Ejercito_GT @DefensaSV @GobernacionSV @PROCIVILSV @marioduran Que gran labor, ayudar a nuestros hermanos guatemaltecos. Bellísimo lugar!!', nan)\n",
      "('@migquintana Es que estoy muy de acuerdo con tu idea del \"doble pivote\" Merino + Thiago (o en esta convocatoria para mi gusto Koke) y un tercer hombre delante. Encajaría con el juego de la selección y con el ritmo del fútbol actual.', nan)\n",
      "('¡Gracias, CEOs, por tuitear contra Merino! ¡Nos salvaron a todos!', nan)\n",
      "('#kuserolive solo vengo a pasar la voz q chusco ta vendiendo piñatas de merino ctm para fin de año pasen la voz', nan)\n",
      "('@ComunicacionSV Que manden la ayuda en cajas solidarias @nayibbukele @merino_monroy @nunezedwin @RomeoHerrera1 @anlikerinfante @FranAlabi @ECastroES @XZablah  #PaquetesAlimentarios  #AyudaALaPuertaDeTuCasa', nan)\n",
      "('Mikel Oyarzabal @mikel10oyar  Mikel Merino @mikelmerino1   Volved a casa, donde SI se os quiere y valora. Sois gigantes.   Gora #RealSociedad!!!', nan)\n",
      "('LISTOOO AHIII VAMOS A LA MARCHA.,MERINO RCTM NO TE TENGO MIEDOOOOO😤😤😤😤😤', nan)\n",
      "('Merino tu me metes tanques y bombas yo te muestro ahora mis armas PANCARTAS MI POLLO BULLERO Y TODA MI INDIGNACION  Nos vemos en las calles!!!  #MerinoJamasSeraMiPresidente  #TodosLosDiasHastaQueCaiga  #PeruTeQuieroPorEsoTeDefiendo   @ocram  @rmapalacios @patriciagamarra  https://t.co/X87OkLhBTg', nan)\n",
      "('Merino esta esperando que todos los peruanos de todos las provincias  vengan a botarlo de su sillón.', nan)\n",
      "('Merino paseando...!!! 😂😂😂 #MerinoNoEsMiPresidente', nan)\n",
      "('Merino y Antero ya la están viendo verde... Noticia en desarrollo... @JaimeChincha @rmapalacios @ocram @lucianolopez27 @contracultural @EdMalagaTrillo  https://t.co/GgpYAuLNYF', nan)\n",
      "('Fuera Merino! Grita a todo pulmón la gente en el parque Kennedy!', nan)\n",
      "('Pasamos de hacer tendencia cualquier cosa que nos hiciera felices, a que las tendencias sean \"Cuídate\" \"Cuidado\". MERINO CTM #MerinoJamasSeraMiPresidente #MarchaNacional  https://t.co/FdeKLoIC3N', nan)\n",
      "('Merino consiguió que comience a seguir a Olivares y a De Belaunde.  https://t.co/Wd7teB8IRi', nan)\n",
      "('Las cajitas solidarias han sido un gran apoyo para nuestras familias, vienen mejor que las bolsas. @nayibbukele @merino_monroy @nunezedwin @RomeoHerrera1 @Anlikerinfante @FranAlabi @ECastroES @XZablah  #PaquetesAlimentarios  #AyudaALaPuertaDeTuCasa  https://t.co/oj1SYIUxQl', nan)\n",
      "('@LaSingingLatinx @DiarioDeCurwen Que le proyecten en su edificio así como lo hicieron en el edificio de Merino!!', nan)\n",
      "('¡No es Merino, es el Neoliberalismo!   #FueraMerino #NuevaConstitucion  https://t.co/aFqRhL8205', nan)\n",
      "('#merino = #Maduro', nan)\n",
      "('@lamula Desde Santiago de Chile...hasta que Merino se vaya  https://t.co/aHEizQfJEr', nan)\n",
      "('Wir werden nicht aufgeben. Wir entscheiden wer unsere President wird... Durch WÄHLEN!! . NO TE HE VOTADO MERINO, LARGATE  RAUS MERINO!!!', nan)\n",
      "('@ANEPElSalvador @MelaraRaul @AsambleaSV @paololuers @CorteSupremaJ @RodolfoKelsen @LeonardoBonia @DaboubJorge @CRAMSV @RgeGerman @ULICESDELDIOSG1 @GermanArriaza @rodolfo_parker @reynaldocarball @sulenayala @RobertoAnzora_ @FcoOso @marioponcesv @BeltrhanRaul @merino_chico  https://t.co/jWC9qtHDIM', nan)\n",
      "('MERINO YO TENGO CHAMBA, IGUAL ME LLEGAS AL PINCHO!', nan)\n",
      "('@Politica_LR @PCaterianoB Merino estará ensayando la canción de Alejandro Sanz \"mi soledad y yo\".', nan)\n",
      "('Unai Simón; Navas, Ramos, Pau, Gayá; Canales, Koke, Merino; Gerard, Morata, Ferran.', nan)\n",
      "('¡¡¡ MERINO COJUDO, TERMINA TUS ESTUDIOS !!!!', nan)\n",
      "('Se llega la noche para merino y al @congresoperu @pcmperu', nan)\n",
      "('No importa. Nos bastamos solos. Generación del Bicentenario. Hasta que caiga Merino y sus ratas. #MerinoNoNosRepresenta  #TomaLaCalle #CongresoGolpista #golpedeEstado #MerinoNoEsMiPresidente  #TodosLosDiasHastaQueCaigas  #MarchaNacional #14Nov', nan)\n",
      "('Así se desarrolla la segunda marcha nacional contra el Gobierno de Manuel Merino esta tarde (FOTOS)   https://t.co/9uNZSB7f36', nan)\n",
      "('[SEGUIDORES DE MERINO] El premier Antero Flores-Aráoz afirmó que la gente protesta porque ha estado restringida en sus casas mucho tiempo por la pandemia. ⤵️ https://t.co/q171VK5EZP', nan)\n",
      "('Unai Navas Cualquiera Cualquiera cualquiera Canales Koke Merino Sarabia Moreno Cualquiera', nan)\n",
      "('Yo solo veo \"A Merino le gusta el pepino\" 😁', nan)\n",
      "('@MerinoDeLama MERINO CABRO VAS A CAER, NO TE ENCAPRICHES CON LA PRESIDENCIA. SI TENEMOS QUE RECIBIR EL BICENTENARIO LUCHANDO, ASÍ SERÁ...PERO DE QUÉ TE VAS, TE VAS CARAJO! #MerinoJamasSeraMiPresidente  #MerinoJamasSeraMiPresidente  @MerinoDeLama', nan)\n",
      "('@merino_monroy @nayibbukele @FUERZARMADASV @Ejercito_GT @DefensaSV @GobernacionSV @PROCIVILSV @marioduran 🤗 Hermoso!!!', nan)\n",
      "('🔴🏴 \"Cyber Résistance\" du mouvement #Anonymous : 👉 Le site du Ministère du Travail au #Perou est \" Offline \" !   🎙Avec un 2ème message/avertissement envoyé à : Manuel Merino, le chef du Parlement !  #Peru #OpPeru #TangoDown  https://t.co/JThzgOsxRm   https://t.co/MiNzDBDgq8', nan)\n",
      "('#MerinoJamasSeraMiPresidente 14nov2020 6.30pm IMPRESIONANTE HAY MARCHAS POR TODAS PARTES, ELIJE UNA Y APOYA QUE PRONTO CAE MERINO.   #DePie  #GeneracionDelBicentenario  #MerinoDictador', nan)\n",
      "('@patriciagamarra Gracias Merino, eso amerita un 🤔...', nan)\n",
      "('Como el premier ha dicho que toda persona que se queda en casa respalda al gobierno de Merino, y como desea que nadie participe de la #marcha14nov; es una delicia declararse en rebeldía. #temetisteconlageneracionequivocada  #MerinoNoEresMiPresidente  https://t.co/XmdN58G6v8', nan)\n",
      "('Uyyyyyy... Merino ya fuiste...!!', nan)\n",
      "('Gracias Manuel Merino, porque has logrado unir a todo un país.', nan)\n",
      "('Todos los días hasta que caiga Merino #GolpeDeEstadoEnPeru #MerinoNoEsMiPresidente #MerinoNoNosRepresenta', nan)\n",
      "('MERINO NO ES MI PRESIDENTE!!!..VECINO ESCUCHA ÚNETE A LA LUCHA....😡😡  https://t.co/F2AbKh6SdP', nan)\n",
      "('Marcha Nacional: Punto de emergencia en Plaza San Martín  #marchanacional #merino #presidente  https://t.co/A9bxBo8ROi', nan)\n",
      "('⚠️Activista, periodista, si tu cuenta (red social) está comprometida, tu sitio web es atacado o tu computadora está infectada⬇️ Kit de primeros auxilios digitales:  https://t.co/pHBkmPEij4  #PeruMarcha #DePie #Merino #14Nov #MarchaNacional', nan)\n",
      "('@patriciagamarra Represión. Al fiel estilo fujimontesinista. Merino aprendió rápido en la escuela naranja.', nan)\n",
      "('Marchamos por un futuro mucho mejor que el tuyo Merino. #MerinoCTM', nan)\n",
      "('@Cipoton7 @kevin51514757 @merino_monroy @nayibbukele @FUERZARMADASV @Ejercito_GT No son pastores dice el tacua 🤣🤣🤣🤣🤣', nan)\n",
      "('@_ander19 @maitane_eh bah merino deja disfrutar de la buena vida cabron jajajajajajaja', nan)\n",
      "('La ayuda les vino bien, ademas está muy surtida la caja  https://t.co/RyhEdykKaN les va a venir bien la ayuda @nayibbukele @merino_monroy @anlikerinfante @nunezedwin @RomeoHerrera1 @FranAlabi @ECastroES @XZablah  #PaquetesAlimentarios  #AyudaALaPuertaDeTuCasa', nan)\n",
      "('@_Lassana_ De Gea Navas Ramos Pau Reguilón Thiago Rodri Merino Gerard Aspas Oyarzabal', nan)\n",
      "('Muchas gracias por mandar las cajas solidarias en lugar de bolsas! @nayibbukele @merino_monroy @nunezedwin @RomeoHerrera1 @Anlikerinfante @FranAlabi @ECastroES @XZablah  #PaquetesAlimentarios  #AyudaALaPuertaDeTuCasa  https://t.co/T47bsWpTVi', nan)\n",
      "('@nayibbukele qué bueno que sólo manden cajas solidarias a varias comunidades, espero que en San Bartolo ya manden  https://t.co/gOpWV8Ez71 @merino_monroy @anlikerinfante @nunezedwin @RomeoHerrera1 @FranAlabi @ECastroES @XZablah #PaquetesAlimentarios #AyudaALaPuertaDeTuCasa', nan)\n",
      "('Unai Simón, Sergi Roberto, Reguilón, Pau Torres, Mikel Merino, Dani Olmo, Oyarzábal, Traoré...🤦🏻\\u200d♂️', nan)\n",
      "('@elheladoscuro @ocram Seguro es sobrino o ahijado de Merino ajajaja', nan)\n",
      "('mi barra favorita es:   Merino cochino quien chucha te ha elegido', nan)\n",
      "('@Nurseryb2013 @zapccamila Pueden agradecer a Merino', nan)\n",
      "('Con asias quiero ver los millones de peruanos que respaldan a Merino.🙂', nan)\n",
      "('@TrujiYo @ocram Vamos bien!! El objetivo es Merino, Antero y el congreso, ...', nan)\n",
      "('Aquí estamos hasta voltearle el partido a Merino y su pandilla (incluida la @CONFIEP) 🇵🇪💪🏾💓  #FueraMerino #NuevaConstitución  https://t.co/FPP8GoS2Fc', nan)\n",
      "(' https://t.co/KpPWU4di5e La ayuda en cajas solidarias @nayibbukele @merino_monroy @nunezedwin @RomeoHerrera1 @anlikerinfante @FranAlabi @ECastroES @XZablah  #PaquetesAlimentarios  #AyudaALaPuertaDeTuCasa', nan)\n",
      "('@marco071179 @AlbertoBelaunde Lo que quiere el Perú, que el TC sea elegido en un concurso limpio y transparente.  ¡Fuera Merino!  #MerinoCTM  #MerinoNoEsMiPresidente  #MerinoNoNosRepresenta  #MerinoDictador  #MerinoNoNosRepresenta  #MerinoDictador  #MerinoCorrupto', nan)\n",
      "('Merino ha logrado lo que en años de historia del Perú jamás se ha dado, ha unido a la gran empresa (bancos) y a la CGTP. El milagro de Merino.  #GobiernoUsurpador. #Marcha14N', nan)\n",
      "('Convocan para mañana domingo 15/11 a marcha ciclista contra el gobierno de Manuel Merino  Los promotores subrayan que evento será pacífico y que iniciará a las 10 a.m. en el Parque Kennedy de Miraflores.', nan)\n",
      "('フリートみたい…フリート見させて', nan)\n",
      "('Grandes frases para #Merino parte 1  #PeruvsCongreso #PeruTeQuieroPorEsoTeDefiendo  https://t.co/Jm2v1lht7u', nan)\n",
      "('@RobertoRamajo @mikel10oyar @mikelmerino1 Jajajaja (a mi Merino me ha gustado mucho)', nan)\n",
      "('Mensaje de Yesenia Ponce: \"Si Merino es Presidente con secundaria completa, yo seré su Presidenta también\" 🤣🤣🤣🤣🤣🤣🤣🤣🤣🤣🤣🤣🤣  https://t.co/Pqm0WxYoYr', nan)\n",
      "('Asu. No tienes a nadie, Merino mejor ya lárgate !', nan)\n"
     ]
    }
   ],
   "source": [
    "positives = NB_results.loc[NB_results.sentiment == 'P']\n",
    "sample_size = 100\n",
    "for tweet in positives.tweet.sample(sample_size):\n",
    "    print(tweet)"
   ]
  },
  {
   "cell_type": "code",
   "execution_count": 54,
   "metadata": {},
   "outputs": [
    {
     "name": "stdout",
     "output_type": "stream",
     "text": [
      "<class 'pandas.core.frame.DataFrame'>\n",
      "Int64Index: 508 entries, 16 to 4998\n",
      "Data columns (total 2 columns):\n",
      " #   Column     Non-Null Count  Dtype \n",
      "---  ------     --------------  ----- \n",
      " 0   tweet      508 non-null    object\n",
      " 1   sentiment  508 non-null    object\n",
      "dtypes: object(2)\n",
      "memory usage: 11.9+ KB\n"
     ]
    }
   ],
   "source": [
    "positives.info()"
   ]
  },
  {
   "cell_type": "markdown",
   "metadata": {},
   "source": [
    "#### Tweets negativos:"
   ]
  },
  {
   "cell_type": "code",
   "execution_count": 55,
   "metadata": {},
   "outputs": [
    {
     "name": "stdout",
     "output_type": "stream",
     "text": [
      "('Korina Rivadeneira expresa su indignación por represión policial en marchas contra Manuel Merino: “Acatan órdenes nefastas ¿No es su país también?\"   https://t.co/UG2TSVK6vQ', nan)\n",
      "('@annabellzv @PeruEnNoticias Vas a caer Merino CTM.', nan)\n",
      "('Merino no nos representas, te queremos fuera a ti y a tus ratas  . . .  Hashtags basura —&gt; #MerinoSiEsMiPresidente  #MERINOSIMEREPRESENTA  #TerrorismoNuncaMas  https://t.co/yYFSHDSHVy', nan)\n",
      "('@melissapradell Ya fueron, fuera Merino, fuera Otorongos... Esto es el cimiento de la verdadera Independencia de la Patria, Viva el Perú!!!', nan)\n",
      "('CAMBIO 🔚 Merino 🔜 Gerard Moreno #SUIESP 🇨🇭🇪🇸 #LaSeleccionDeNuestraVida #VamosEspaña #SomosFederacion #NationsLeague', nan)\n",
      "('@PedroMarbell @ToniAlvaL Dale con la ONP....Merino seguro te la da xq de economía no sabe nada...va a terminar de mandarnos a la porra con medidas populistas.', nan)\n",
      "('@aleki1661 @alfredoperezgub Todos los peruanos debemos unirnos y acabar con el populismo que quiere el Congreso y el usurpador Merino.', nan)\n",
      "('La dictadura de Merino , prohíbe el libre trànsito...', nan)\n",
      "('@feemar22 @kikesitov67 @JoseVegaUPP @MartinVizcarraC @RPPNoticias Lo que dijo Eloy Espinoza es q no puede deshacer lo hecho (la vacancia) pero si establecen lo q significa \"incapacidad moral\". Por eso es que todos los organismos internacionales están pidiendo al TC que se pronuncie al respecto, para ver si lo de Merino es legítimo o no', nan)\n",
      "('Miren wjdhjwjs ya puse mi cartelito &lt;3 no se ve bien porque mi cuarto esta en el segundo piso y bueNO Merino, que este en mi casa no signo que te respalde  https://t.co/um8w3FOy1x', nan)\n"
     ]
    }
   ],
   "source": [
    "negatives = NB_results.loc[NB_results.sentiment == 'N']\n",
    "sample_size = 10\n",
    "for tweet in negatives.tweet.sample(sample_size):\n",
    "    print(tweet)"
   ]
  },
  {
   "cell_type": "code",
   "execution_count": 56,
   "metadata": {},
   "outputs": [
    {
     "name": "stdout",
     "output_type": "stream",
     "text": [
      "<class 'pandas.core.frame.DataFrame'>\n",
      "Int64Index: 4492 entries, 0 to 4999\n",
      "Data columns (total 2 columns):\n",
      " #   Column     Non-Null Count  Dtype \n",
      "---  ------     --------------  ----- \n",
      " 0   tweet      4492 non-null   object\n",
      " 1   sentiment  4492 non-null   object\n",
      "dtypes: object(2)\n",
      "memory usage: 105.3+ KB\n"
     ]
    }
   ],
   "source": [
    "negatives.info()"
   ]
  },
  {
   "cell_type": "markdown",
   "metadata": {},
   "source": [
    "## Resultados"
   ]
  },
  {
   "cell_type": "code",
   "execution_count": 57,
   "metadata": {},
   "outputs": [
    {
     "data": {
      "text/plain": [
       "<AxesSubplot:title={'center':'Distribucion'}, ylabel='sentiment'>"
      ]
     },
     "execution_count": 57,
     "metadata": {},
     "output_type": "execute_result"
    },
    {
     "data": {
      "image/png": "[encoded data removed]",
      "text/plain": [
       "<Figure size 432x432 with 1 Axes>"
      ]
     },
     "metadata": {},
     "output_type": "display_data"
    }
   ],
   "source": [
    "NB_results['sentiment'].value_counts().plot(kind='pie', title=\"Distribucion\", figsize=(6,6),autopct='%.2f')"
   ]
  },
  {
   "cell_type": "code",
   "execution_count": 58,
   "metadata": {},
   "outputs": [
    {
     "name": "stdout",
     "output_type": "stream",
     "text": [
      "Most Informative Features\n",
      "            neg_r(felic) = 0.0                 P : N      =     30.5 : 1.0\n",
      "             has(encant) = 1                   P : N      =     27.5 : 1.0\n",
      "          has(graci,por) = 1                   P : N      =     27.5 : 1.0\n",
      "           neg_r(encant) = 0.0                 P : N      =     27.5 : 1.0\n",
      "           neg_l(encant) = 0.0                 P : N      =     26.5 : 1.0\n",
      "           has(muy,buen) = 1                   P : N      =     23.5 : 1.0\n",
      "          has(__HASH_FF) = 1                   P : N      =     20.9 : 1.0\n",
      "        neg_l(__HASH_FF) = 0.0                 P : N      =     20.9 : 1.0\n",
      "   emoji_(face-positive) = 'face-positive'      P : N      =     20.7 : 1.0\n",
      "  has(graci,__PUNC_EXCL) = 1                   P : N      =     20.4 : 1.0\n"
     ]
    }
   ],
   "source": [
    "nb_class.show_most_informative_features(10)"
   ]
  },
  {
   "cell_type": "markdown",
   "metadata": {},
   "source": [
    "# STOP WORDS"
   ]
  },
  {
   "cell_type": "code",
   "execution_count": 59,
   "metadata": {},
   "outputs": [
    {
     "data": {
      "image/png": "[encoded data removed]",
      "text/plain": [
       "<Figure size 432x288 with 1 Axes>"
      ]
     },
     "metadata": {
      "needs_background": "light"
     },
     "output_type": "display_data"
    }
   ],
   "source": [
    "\n",
    "punctuation = list(string.punctuation)\n",
    "stop = stopwords.words('spanish') + punctuation + ['rt', 'via']\n",
    "wordcloud = WordCloud(\n",
    "                          background_color='white',\n",
    "                          stopwords=stop,\n",
    "                          max_words=150,\n",
    "                          max_font_size=50, \n",
    "                          random_state=42\n",
    "                         ).generate(str(processed_tweets['tweetText']))\n",
    "plt.imshow(wordcloud)\n",
    "plt.rcParams[\"figure.figsize\"] = (10,10)\n",
    "plt.axis('off')\n",
    "plt.title(\"Tweets frecuentes\")\n",
    "plt.show()"
   ]
  },
  {
   "cell_type": "code",
   "execution_count": null,
   "metadata": {},
   "outputs": [],
   "source": []
  },
  {
   "cell_type": "code",
   "execution_count": null,
   "metadata": {},
   "outputs": [],
   "source": []
  },
  {
   "cell_type": "code",
   "execution_count": null,
   "metadata": {},
   "outputs": [],
   "source": []
  }
 ],
 "metadata": {
  "kernelspec": {
   "display_name": "Python 3",
   "language": "python",
   "name": "python3"
  },
  "language_info": {
   "codemirror_mode": {
    "name": "ipython",
    "version": 3
   },
   "file_extension": ".py",
   "mimetype": "text/x-python",
   "name": "python",
   "nbconvert_exporter": "python",
   "pygments_lexer": "ipython3",
   "version": "3.8.5"
  }
 },
 "nbformat": 4,
 "nbformat_minor": 4
}
